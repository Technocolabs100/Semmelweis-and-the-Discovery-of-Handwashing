{
 "cells": [
  {
   "attachments": {},
   "cell_type": "markdown",
   "id": "a27b12bf",
   "metadata": {
    "_cell_guid": "b1076dfc-b9ad-4769-8c92-a6c4dae69d19",
    "_uuid": "8f2839f25d086af736a60e9eeb907d3b93b6e0e5",
    "execution": {
     "iopub.execute_input": "2023-05-19T11:33:20.581547Z",
     "iopub.status.busy": "2023-05-19T11:33:20.580435Z",
     "iopub.status.idle": "2023-05-19T11:33:20.586577Z",
     "shell.execute_reply": "2023-05-19T11:33:20.585427Z",
     "shell.execute_reply.started": "2023-05-19T11:33:20.581504Z"
    },
    "papermill": {
     "duration": 0.007536,
     "end_time": "2023-05-19T11:36:26.924577",
     "exception": false,
     "start_time": "2023-05-19T11:36:26.917041",
     "status": "completed"
    },
    "tags": []
   },
   "source": [
    "# Dr. Semmelweis and the Discovery of Handwashing"
   ]
  },
  {
   "attachments": {},
   "cell_type": "markdown",
   "id": "aaab7477",
   "metadata": {
    "papermill": {
     "duration": 0.006843,
     "end_time": "2023-05-19T11:36:26.938696",
     "exception": false,
     "start_time": "2023-05-19T11:36:26.931853",
     "status": "completed"
    },
    "tags": []
   },
   "source": [
    "**Project Description**"
   ]
  },
  {
   "attachments": {},
   "cell_type": "markdown",
   "id": "bd7aaac8",
   "metadata": {
    "papermill": {
     "duration": 0.006621,
     "end_time": "2023-05-19T11:36:26.952457",
     "exception": false,
     "start_time": "2023-05-19T11:36:26.945836",
     "status": "completed"
    },
    "tags": []
   },
   "source": [
    "In 1847, the Hungarian physician Ignaz Semmelweis makes a breakthough discovery: He discovers handwashing. Contaminated hands was a major cause of childbed fever and by enforcing handwashing at his hospital he saved hundreds of lives.\n",
    "In this python project we will reanalyze the medical data Semmelweis collected. "
   ]
  },
  {
   "cell_type": "code",
   "execution_count": 1,
   "id": "f9932588",
   "metadata": {
    "execution": {
     "iopub.execute_input": "2023-05-19T11:36:26.968920Z",
     "iopub.status.busy": "2023-05-19T11:36:26.968404Z",
     "iopub.status.idle": "2023-05-19T11:36:26.982556Z",
     "shell.execute_reply": "2023-05-19T11:36:26.981355Z"
    },
    "papermill": {
     "duration": 0.025784,
     "end_time": "2023-05-19T11:36:26.985355",
     "exception": false,
     "start_time": "2023-05-19T11:36:26.959571",
     "status": "completed"
    },
    "tags": []
   },
   "outputs": [],
   "source": [
    "import numpy as np # linear algebra\n",
    "import pandas as pd # data processing, CSV file I/O (e.g. pd.read_csv)"
   ]
  },
  {
   "cell_type": "code",
   "execution_count": 2,
   "id": "968e4f14",
   "metadata": {
    "execution": {
     "iopub.execute_input": "2023-05-19T11:36:27.002110Z",
     "iopub.status.busy": "2023-05-19T11:36:27.001161Z",
     "iopub.status.idle": "2023-05-19T11:36:27.028104Z",
     "shell.execute_reply": "2023-05-19T11:36:27.026865Z"
    },
    "papermill": {
     "duration": 0.037804,
     "end_time": "2023-05-19T11:36:27.030496",
     "exception": false,
     "start_time": "2023-05-19T11:36:26.992692",
     "status": "completed"
    },
    "tags": []
   },
   "outputs": [],
   "source": [
    "yearly=pd.read_csv('datasets/yearly_deaths_by_clinic.csv')"
   ]
  },
  {
   "cell_type": "code",
   "execution_count": 3,
   "id": "de278a5d",
   "metadata": {
    "execution": {
     "iopub.execute_input": "2023-05-19T11:36:27.047304Z",
     "iopub.status.busy": "2023-05-19T11:36:27.046921Z",
     "iopub.status.idle": "2023-05-19T11:36:27.080279Z",
     "shell.execute_reply": "2023-05-19T11:36:27.079217Z"
    },
    "papermill": {
     "duration": 0.044883,
     "end_time": "2023-05-19T11:36:27.083058",
     "exception": false,
     "start_time": "2023-05-19T11:36:27.038175",
     "status": "completed"
    },
    "tags": []
   },
   "outputs": [
    {
     "data": {
      "text/html": [
       "<div>\n",
       "<style scoped>\n",
       "    .dataframe tbody tr th:only-of-type {\n",
       "        vertical-align: middle;\n",
       "    }\n",
       "\n",
       "    .dataframe tbody tr th {\n",
       "        vertical-align: top;\n",
       "    }\n",
       "\n",
       "    .dataframe thead th {\n",
       "        text-align: right;\n",
       "    }\n",
       "</style>\n",
       "<table border=\"1\" class=\"dataframe\">\n",
       "  <thead>\n",
       "    <tr style=\"text-align: right;\">\n",
       "      <th></th>\n",
       "      <th>year</th>\n",
       "      <th>births</th>\n",
       "      <th>deaths</th>\n",
       "      <th>clinic</th>\n",
       "    </tr>\n",
       "  </thead>\n",
       "  <tbody>\n",
       "    <tr>\n",
       "      <th>0</th>\n",
       "      <td>1841</td>\n",
       "      <td>3036</td>\n",
       "      <td>237</td>\n",
       "      <td>clinic 1</td>\n",
       "    </tr>\n",
       "    <tr>\n",
       "      <th>1</th>\n",
       "      <td>1842</td>\n",
       "      <td>3287</td>\n",
       "      <td>518</td>\n",
       "      <td>clinic 1</td>\n",
       "    </tr>\n",
       "    <tr>\n",
       "      <th>2</th>\n",
       "      <td>1843</td>\n",
       "      <td>3060</td>\n",
       "      <td>274</td>\n",
       "      <td>clinic 1</td>\n",
       "    </tr>\n",
       "    <tr>\n",
       "      <th>3</th>\n",
       "      <td>1844</td>\n",
       "      <td>3157</td>\n",
       "      <td>260</td>\n",
       "      <td>clinic 1</td>\n",
       "    </tr>\n",
       "    <tr>\n",
       "      <th>4</th>\n",
       "      <td>1845</td>\n",
       "      <td>3492</td>\n",
       "      <td>241</td>\n",
       "      <td>clinic 1</td>\n",
       "    </tr>\n",
       "    <tr>\n",
       "      <th>5</th>\n",
       "      <td>1846</td>\n",
       "      <td>4010</td>\n",
       "      <td>459</td>\n",
       "      <td>clinic 1</td>\n",
       "    </tr>\n",
       "    <tr>\n",
       "      <th>6</th>\n",
       "      <td>1841</td>\n",
       "      <td>2442</td>\n",
       "      <td>86</td>\n",
       "      <td>clinic 2</td>\n",
       "    </tr>\n",
       "    <tr>\n",
       "      <th>7</th>\n",
       "      <td>1842</td>\n",
       "      <td>2659</td>\n",
       "      <td>202</td>\n",
       "      <td>clinic 2</td>\n",
       "    </tr>\n",
       "    <tr>\n",
       "      <th>8</th>\n",
       "      <td>1843</td>\n",
       "      <td>2739</td>\n",
       "      <td>164</td>\n",
       "      <td>clinic 2</td>\n",
       "    </tr>\n",
       "    <tr>\n",
       "      <th>9</th>\n",
       "      <td>1844</td>\n",
       "      <td>2956</td>\n",
       "      <td>68</td>\n",
       "      <td>clinic 2</td>\n",
       "    </tr>\n",
       "    <tr>\n",
       "      <th>10</th>\n",
       "      <td>1845</td>\n",
       "      <td>3241</td>\n",
       "      <td>66</td>\n",
       "      <td>clinic 2</td>\n",
       "    </tr>\n",
       "    <tr>\n",
       "      <th>11</th>\n",
       "      <td>1846</td>\n",
       "      <td>3754</td>\n",
       "      <td>105</td>\n",
       "      <td>clinic 2</td>\n",
       "    </tr>\n",
       "  </tbody>\n",
       "</table>\n",
       "</div>"
      ],
      "text/plain": [
       "    year  births  deaths    clinic\n",
       "0   1841    3036     237  clinic 1\n",
       "1   1842    3287     518  clinic 1\n",
       "2   1843    3060     274  clinic 1\n",
       "3   1844    3157     260  clinic 1\n",
       "4   1845    3492     241  clinic 1\n",
       "5   1846    4010     459  clinic 1\n",
       "6   1841    2442      86  clinic 2\n",
       "7   1842    2659     202  clinic 2\n",
       "8   1843    2739     164  clinic 2\n",
       "9   1844    2956      68  clinic 2\n",
       "10  1845    3241      66  clinic 2\n",
       "11  1846    3754     105  clinic 2"
      ]
     },
     "execution_count": 3,
     "metadata": {},
     "output_type": "execute_result"
    }
   ],
   "source": [
    "yearly"
   ]
  },
  {
   "cell_type": "code",
   "execution_count": 4,
   "id": "a1a70c79",
   "metadata": {
    "execution": {
     "iopub.execute_input": "2023-05-19T11:36:27.100510Z",
     "iopub.status.busy": "2023-05-19T11:36:27.099602Z",
     "iopub.status.idle": "2023-05-19T11:36:27.109461Z",
     "shell.execute_reply": "2023-05-19T11:36:27.108673Z"
    },
    "papermill": {
     "duration": 0.02127,
     "end_time": "2023-05-19T11:36:27.111931",
     "exception": false,
     "start_time": "2023-05-19T11:36:27.090661",
     "status": "completed"
    },
    "tags": []
   },
   "outputs": [],
   "source": [
    "yearly.loc[yearly['clinic'] == 'clinic 1', 'clinic'] = 1\n",
    "yearly.loc[yearly['clinic'] == 'clinic 2', 'clinic'] = 2"
   ]
  },
  {
   "cell_type": "code",
   "execution_count": 5,
   "id": "8d0caa8e",
   "metadata": {
    "execution": {
     "iopub.execute_input": "2023-05-19T11:36:27.128961Z",
     "iopub.status.busy": "2023-05-19T11:36:27.128036Z",
     "iopub.status.idle": "2023-05-19T11:36:27.141389Z",
     "shell.execute_reply": "2023-05-19T11:36:27.140012Z"
    },
    "papermill": {
     "duration": 0.02456,
     "end_time": "2023-05-19T11:36:27.143912",
     "exception": false,
     "start_time": "2023-05-19T11:36:27.119352",
     "status": "completed"
    },
    "tags": []
   },
   "outputs": [
    {
     "data": {
      "text/html": [
       "<div>\n",
       "<style scoped>\n",
       "    .dataframe tbody tr th:only-of-type {\n",
       "        vertical-align: middle;\n",
       "    }\n",
       "\n",
       "    .dataframe tbody tr th {\n",
       "        vertical-align: top;\n",
       "    }\n",
       "\n",
       "    .dataframe thead th {\n",
       "        text-align: right;\n",
       "    }\n",
       "</style>\n",
       "<table border=\"1\" class=\"dataframe\">\n",
       "  <thead>\n",
       "    <tr style=\"text-align: right;\">\n",
       "      <th></th>\n",
       "      <th>year</th>\n",
       "      <th>births</th>\n",
       "      <th>deaths</th>\n",
       "      <th>clinic</th>\n",
       "    </tr>\n",
       "  </thead>\n",
       "  <tbody>\n",
       "    <tr>\n",
       "      <th>0</th>\n",
       "      <td>1841</td>\n",
       "      <td>3036</td>\n",
       "      <td>237</td>\n",
       "      <td>1</td>\n",
       "    </tr>\n",
       "    <tr>\n",
       "      <th>1</th>\n",
       "      <td>1842</td>\n",
       "      <td>3287</td>\n",
       "      <td>518</td>\n",
       "      <td>1</td>\n",
       "    </tr>\n",
       "    <tr>\n",
       "      <th>2</th>\n",
       "      <td>1843</td>\n",
       "      <td>3060</td>\n",
       "      <td>274</td>\n",
       "      <td>1</td>\n",
       "    </tr>\n",
       "    <tr>\n",
       "      <th>3</th>\n",
       "      <td>1844</td>\n",
       "      <td>3157</td>\n",
       "      <td>260</td>\n",
       "      <td>1</td>\n",
       "    </tr>\n",
       "    <tr>\n",
       "      <th>4</th>\n",
       "      <td>1845</td>\n",
       "      <td>3492</td>\n",
       "      <td>241</td>\n",
       "      <td>1</td>\n",
       "    </tr>\n",
       "    <tr>\n",
       "      <th>5</th>\n",
       "      <td>1846</td>\n",
       "      <td>4010</td>\n",
       "      <td>459</td>\n",
       "      <td>1</td>\n",
       "    </tr>\n",
       "    <tr>\n",
       "      <th>6</th>\n",
       "      <td>1841</td>\n",
       "      <td>2442</td>\n",
       "      <td>86</td>\n",
       "      <td>2</td>\n",
       "    </tr>\n",
       "    <tr>\n",
       "      <th>7</th>\n",
       "      <td>1842</td>\n",
       "      <td>2659</td>\n",
       "      <td>202</td>\n",
       "      <td>2</td>\n",
       "    </tr>\n",
       "    <tr>\n",
       "      <th>8</th>\n",
       "      <td>1843</td>\n",
       "      <td>2739</td>\n",
       "      <td>164</td>\n",
       "      <td>2</td>\n",
       "    </tr>\n",
       "    <tr>\n",
       "      <th>9</th>\n",
       "      <td>1844</td>\n",
       "      <td>2956</td>\n",
       "      <td>68</td>\n",
       "      <td>2</td>\n",
       "    </tr>\n",
       "    <tr>\n",
       "      <th>10</th>\n",
       "      <td>1845</td>\n",
       "      <td>3241</td>\n",
       "      <td>66</td>\n",
       "      <td>2</td>\n",
       "    </tr>\n",
       "    <tr>\n",
       "      <th>11</th>\n",
       "      <td>1846</td>\n",
       "      <td>3754</td>\n",
       "      <td>105</td>\n",
       "      <td>2</td>\n",
       "    </tr>\n",
       "  </tbody>\n",
       "</table>\n",
       "</div>"
      ],
      "text/plain": [
       "    year  births  deaths clinic\n",
       "0   1841    3036     237      1\n",
       "1   1842    3287     518      1\n",
       "2   1843    3060     274      1\n",
       "3   1844    3157     260      1\n",
       "4   1845    3492     241      1\n",
       "5   1846    4010     459      1\n",
       "6   1841    2442      86      2\n",
       "7   1842    2659     202      2\n",
       "8   1843    2739     164      2\n",
       "9   1844    2956      68      2\n",
       "10  1845    3241      66      2\n",
       "11  1846    3754     105      2"
      ]
     },
     "execution_count": 5,
     "metadata": {},
     "output_type": "execute_result"
    }
   ],
   "source": [
    "yearly"
   ]
  },
  {
   "cell_type": "code",
   "execution_count": 6,
   "id": "50a6f688",
   "metadata": {
    "execution": {
     "iopub.execute_input": "2023-05-19T11:36:27.161776Z",
     "iopub.status.busy": "2023-05-19T11:36:27.161031Z",
     "iopub.status.idle": "2023-05-19T11:36:27.174250Z",
     "shell.execute_reply": "2023-05-19T11:36:27.173068Z"
    },
    "papermill": {
     "duration": 0.025062,
     "end_time": "2023-05-19T11:36:27.176960",
     "exception": false,
     "start_time": "2023-05-19T11:36:27.151898",
     "status": "completed"
    },
    "tags": []
   },
   "outputs": [],
   "source": [
    "# Calculate the proportion of deaths\n",
    "yearly['proportion_deaths'] = yearly['deaths'] / yearly['births']\n",
    "\n",
    "# Extract rows from clinic 1 into yearly1\n",
    "yearly1 =yearly[yearly['clinic'] == 1]\n",
    "\n",
    "# Extract rows from clinic 2 into yearly2\n",
    "yearly2 = yearly[yearly['clinic'] == 2]"
   ]
  },
  {
   "cell_type": "code",
   "execution_count": 7,
   "id": "72a350bd",
   "metadata": {
    "execution": {
     "iopub.execute_input": "2023-05-19T11:36:27.194912Z",
     "iopub.status.busy": "2023-05-19T11:36:27.194122Z",
     "iopub.status.idle": "2023-05-19T11:36:27.207113Z",
     "shell.execute_reply": "2023-05-19T11:36:27.206026Z"
    },
    "papermill": {
     "duration": 0.024529,
     "end_time": "2023-05-19T11:36:27.209383",
     "exception": false,
     "start_time": "2023-05-19T11:36:27.184854",
     "status": "completed"
    },
    "tags": []
   },
   "outputs": [
    {
     "data": {
      "text/html": [
       "<div>\n",
       "<style scoped>\n",
       "    .dataframe tbody tr th:only-of-type {\n",
       "        vertical-align: middle;\n",
       "    }\n",
       "\n",
       "    .dataframe tbody tr th {\n",
       "        vertical-align: top;\n",
       "    }\n",
       "\n",
       "    .dataframe thead th {\n",
       "        text-align: right;\n",
       "    }\n",
       "</style>\n",
       "<table border=\"1\" class=\"dataframe\">\n",
       "  <thead>\n",
       "    <tr style=\"text-align: right;\">\n",
       "      <th></th>\n",
       "      <th>year</th>\n",
       "      <th>births</th>\n",
       "      <th>deaths</th>\n",
       "      <th>clinic</th>\n",
       "      <th>proportion_deaths</th>\n",
       "    </tr>\n",
       "  </thead>\n",
       "  <tbody>\n",
       "    <tr>\n",
       "      <th>0</th>\n",
       "      <td>1841</td>\n",
       "      <td>3036</td>\n",
       "      <td>237</td>\n",
       "      <td>1</td>\n",
       "      <td>0.078063</td>\n",
       "    </tr>\n",
       "    <tr>\n",
       "      <th>1</th>\n",
       "      <td>1842</td>\n",
       "      <td>3287</td>\n",
       "      <td>518</td>\n",
       "      <td>1</td>\n",
       "      <td>0.157591</td>\n",
       "    </tr>\n",
       "    <tr>\n",
       "      <th>2</th>\n",
       "      <td>1843</td>\n",
       "      <td>3060</td>\n",
       "      <td>274</td>\n",
       "      <td>1</td>\n",
       "      <td>0.089542</td>\n",
       "    </tr>\n",
       "    <tr>\n",
       "      <th>3</th>\n",
       "      <td>1844</td>\n",
       "      <td>3157</td>\n",
       "      <td>260</td>\n",
       "      <td>1</td>\n",
       "      <td>0.082357</td>\n",
       "    </tr>\n",
       "    <tr>\n",
       "      <th>4</th>\n",
       "      <td>1845</td>\n",
       "      <td>3492</td>\n",
       "      <td>241</td>\n",
       "      <td>1</td>\n",
       "      <td>0.069015</td>\n",
       "    </tr>\n",
       "    <tr>\n",
       "      <th>5</th>\n",
       "      <td>1846</td>\n",
       "      <td>4010</td>\n",
       "      <td>459</td>\n",
       "      <td>1</td>\n",
       "      <td>0.114464</td>\n",
       "    </tr>\n",
       "  </tbody>\n",
       "</table>\n",
       "</div>"
      ],
      "text/plain": [
       "   year  births  deaths clinic  proportion_deaths\n",
       "0  1841    3036     237      1           0.078063\n",
       "1  1842    3287     518      1           0.157591\n",
       "2  1843    3060     274      1           0.089542\n",
       "3  1844    3157     260      1           0.082357\n",
       "4  1845    3492     241      1           0.069015\n",
       "5  1846    4010     459      1           0.114464"
      ]
     },
     "execution_count": 7,
     "metadata": {},
     "output_type": "execute_result"
    }
   ],
   "source": [
    "yearly1"
   ]
  },
  {
   "cell_type": "code",
   "execution_count": 8,
   "id": "0b852a9b",
   "metadata": {
    "execution": {
     "iopub.execute_input": "2023-05-19T11:36:27.227457Z",
     "iopub.status.busy": "2023-05-19T11:36:27.226844Z",
     "iopub.status.idle": "2023-05-19T11:36:27.528426Z",
     "shell.execute_reply": "2023-05-19T11:36:27.527201Z"
    },
    "papermill": {
     "duration": 0.313521,
     "end_time": "2023-05-19T11:36:27.530908",
     "exception": false,
     "start_time": "2023-05-19T11:36:27.217387",
     "status": "completed"
    },
    "tags": []
   },
   "outputs": [
    {
     "data": {
      "image/png": "[encoded data removed]",
      "text/plain": [
       "<Figure size 640x480 with 1 Axes>"
      ]
     },
     "metadata": {},
     "output_type": "display_data"
    }
   ],
   "source": [
    "import matplotlib.pyplot as plt\n",
    "\n",
    "# Plotting the data\n",
    "ax = yearly1.plot(x='year', y='proportion_deaths', label='Clinic 1')\n",
    "yearly2.plot(x='year', y='proportion_deaths', label='Clinic 2', ax=ax)\n",
    "\n",
    "# Customize the plot\n",
    "ax.set_ylabel(\"Proportion deaths\")\n",
    "\n",
    "# Display the plot\n",
    "plt.show()"
   ]
  },
  {
   "cell_type": "code",
   "execution_count": 9,
   "id": "e6803598",
   "metadata": {
    "execution": {
     "iopub.execute_input": "2023-05-19T11:36:27.551122Z",
     "iopub.status.busy": "2023-05-19T11:36:27.550633Z",
     "iopub.status.idle": "2023-05-19T11:36:27.563619Z",
     "shell.execute_reply": "2023-05-19T11:36:27.562203Z"
    },
    "papermill": {
     "duration": 0.026435,
     "end_time": "2023-05-19T11:36:27.566725",
     "exception": false,
     "start_time": "2023-05-19T11:36:27.540290",
     "status": "completed"
    },
    "tags": []
   },
   "outputs": [],
   "source": [
    "my_df = pd.read_csv(\n",
    "    \"datasets/monthly_deaths.csv\", \n",
    "    parse_dates=[\"date\"])"
   ]
  },
  {
   "cell_type": "code",
   "execution_count": 10,
   "id": "3af1eb7c",
   "metadata": {
    "execution": {
     "iopub.execute_input": "2023-05-19T11:36:27.585852Z",
     "iopub.status.busy": "2023-05-19T11:36:27.585386Z",
     "iopub.status.idle": "2023-05-19T11:36:27.999052Z",
     "shell.execute_reply": "2023-05-19T11:36:27.997399Z"
    },
    "papermill": {
     "duration": 0.425897,
     "end_time": "2023-05-19T11:36:28.001288",
     "exception": true,
     "start_time": "2023-05-19T11:36:27.575391",
     "status": "failed"
    },
    "tags": []
   },
   "outputs": [
    {
     "ename": "NameError",
     "evalue": "name 'monthly' is not defined",
     "output_type": "error",
     "traceback": [
      "\u001b[0;31m---------------------------------------------------------------------------\u001b[0m",
      "\u001b[0;31mNameError\u001b[0m                                 Traceback (most recent call last)",
      "Cell \u001b[0;32mIn[10], line 1\u001b[0m\n\u001b[0;32m----> 1\u001b[0m monthly[\u001b[38;5;124m'\u001b[39m\u001b[38;5;124mproportion_deaths\u001b[39m\u001b[38;5;124m'\u001b[39m] \u001b[38;5;241m=\u001b[39m \u001b[43mmonthly\u001b[49m[\u001b[38;5;124m'\u001b[39m\u001b[38;5;124mdeaths\u001b[39m\u001b[38;5;124m'\u001b[39m] \u001b[38;5;241m/\u001b[39m monthly[\u001b[38;5;124m'\u001b[39m\u001b[38;5;124mbirths\u001b[39m\u001b[38;5;124m'\u001b[39m]\n",
      "\u001b[0;31mNameError\u001b[0m: name 'monthly' is not defined"
     ]
    }
   ],
   "source": [
    "monthly['proportion_deaths'] = monthly['deaths'] / monthly['births']"
   ]
  },
  {
   "cell_type": "code",
   "execution_count": null,
   "id": "4c54ef3c",
   "metadata": {
    "execution": {
     "iopub.execute_input": "2023-05-18T16:25:14.796733Z",
     "iopub.status.busy": "2023-05-18T16:25:14.796323Z",
     "iopub.status.idle": "2023-05-18T16:25:14.807146Z",
     "shell.execute_reply": "2023-05-18T16:25:14.806154Z",
     "shell.execute_reply.started": "2023-05-18T16:25:14.796702Z"
    },
    "papermill": {
     "duration": null,
     "end_time": null,
     "exception": null,
     "start_time": null,
     "status": "pending"
    },
    "tags": []
   },
   "outputs": [],
   "source": [
    "monthly.tail()"
   ]
  },
  {
   "cell_type": "code",
   "execution_count": null,
   "id": "9dbd36fb",
   "metadata": {
    "execution": {
     "iopub.execute_input": "2023-05-18T16:06:15.591986Z",
     "iopub.status.busy": "2023-05-18T16:06:15.591661Z",
     "iopub.status.idle": "2023-05-18T16:06:15.601224Z",
     "shell.execute_reply": "2023-05-18T16:06:15.600042Z",
     "shell.execute_reply.started": "2023-05-18T16:06:15.591962Z"
    },
    "papermill": {
     "duration": null,
     "end_time": null,
     "exception": null,
     "start_time": null,
     "status": "pending"
    },
    "tags": []
   },
   "outputs": [],
   "source": [
    "monthly.head(5)"
   ]
  },
  {
   "cell_type": "code",
   "execution_count": null,
   "id": "79be77ca",
   "metadata": {
    "execution": {
     "iopub.execute_input": "2023-05-18T16:06:17.144063Z",
     "iopub.status.busy": "2023-05-18T16:06:17.143721Z",
     "iopub.status.idle": "2023-05-18T16:06:17.367112Z",
     "shell.execute_reply": "2023-05-18T16:06:17.366241Z",
     "shell.execute_reply.started": "2023-05-18T16:06:17.144038Z"
    },
    "papermill": {
     "duration": null,
     "end_time": null,
     "exception": null,
     "start_time": null,
     "status": "pending"
    },
    "tags": []
   },
   "outputs": [],
   "source": [
    "# Plotting the data\n",
    "ax = monthly.plot(y='proportion_deaths', label='Clinic 1')\n",
    "\n",
    "# Customize the plot\n",
    "ax.set_ylabel(\"Proportion deaths\")\n",
    "\n",
    "# Display the plot\n",
    "plt.show()"
   ]
  },
  {
   "cell_type": "code",
   "execution_count": null,
   "id": "e6eb6c87",
   "metadata": {
    "execution": {
     "iopub.execute_input": "2023-05-18T16:26:25.408988Z",
     "iopub.status.busy": "2023-05-18T16:26:25.408653Z",
     "iopub.status.idle": "2023-05-18T16:26:25.664647Z",
     "shell.execute_reply": "2023-05-18T16:26:25.663369Z",
     "shell.execute_reply.started": "2023-05-18T16:26:25.408954Z"
    },
    "papermill": {
     "duration": null,
     "end_time": null,
     "exception": null,
     "start_time": null,
     "status": "pending"
    },
    "tags": []
   },
   "outputs": [],
   "source": [
    "\n",
    "handwashing_start = pd.to_datetime(\"1847-01-01\")  \n",
    "\n",
    "# Splitting the data into before and after handwashing periods\n",
    "before_washing = monthly[monthly.index < handwashing_start]\n",
    "after_washing = monthly[monthly.index >= handwashing_start]\n",
    "\n",
    "# Plotting the data\n",
    "ax = before_washing.plot(y='proportion_deaths', label='Before Handwashing')\n",
    "after_washing.plot(y='proportion_deaths', label='After Handwashing', ax=ax)\n",
    "\n",
    "# Customize the plot\n",
    "ax.set_ylabel(\"Proportion deaths\")\n",
    "\n",
    "# Display the plot\n",
    "plt.show()\n"
   ]
  },
  {
   "cell_type": "code",
   "execution_count": null,
   "id": "7ea39440",
   "metadata": {
    "execution": {
     "iopub.execute_input": "2023-05-18T16:27:23.017976Z",
     "iopub.status.busy": "2023-05-18T16:27:23.017547Z",
     "iopub.status.idle": "2023-05-18T16:27:23.024249Z",
     "shell.execute_reply": "2023-05-18T16:27:23.022976Z",
     "shell.execute_reply.started": "2023-05-18T16:27:23.017943Z"
    },
    "papermill": {
     "duration": null,
     "end_time": null,
     "exception": null,
     "start_time": null,
     "status": "pending"
    },
    "tags": []
   },
   "outputs": [],
   "source": [
    "# Select the 'proportion_deaths' column from before_washing and after_washing\n",
    "before_proportion = before_washing['proportion_deaths']\n",
    "after_proportion = after_washing['proportion_deaths']\n",
    "\n",
    "# Calculate the difference in mean monthly proportion of deaths\n",
    "reduction_mean = after_proportion.mean() - before_proportion.mean()\n",
    "\n",
    "# Print the average reduction\n",
    "print(\"Average reduction in proportion of deaths due to handwashing: \", reduction_mean)"
   ]
  },
  {
   "cell_type": "code",
   "execution_count": null,
   "id": "8ca8eb11",
   "metadata": {
    "execution": {
     "iopub.execute_input": "2023-05-18T16:30:06.413827Z",
     "iopub.status.busy": "2023-05-18T16:30:06.413457Z",
     "iopub.status.idle": "2023-05-18T16:30:07.258383Z",
     "shell.execute_reply": "2023-05-18T16:30:07.257067Z",
     "shell.execute_reply.started": "2023-05-18T16:30:06.413797Z"
    },
    "papermill": {
     "duration": null,
     "end_time": null,
     "exception": null,
     "start_time": null,
     "status": "pending"
    },
    "tags": []
   },
   "outputs": [],
   "source": [
    "np.random.seed(42)\n",
    "\n",
    "# Number of bootstrap iterations\n",
    "n_bootstrap = 3000\n",
    "\n",
    "# Initialize the list to store bootstrapped differences in means\n",
    "boot_mean_diff = []\n",
    "\n",
    "# Perform bootstrap analysis\n",
    "for _ in range(n_bootstrap):\n",
    "    # Sample with replacement from before_proportion and after_proportion\n",
    "    boot_before = before_proportion.sample(frac=1, replace=True)\n",
    "    boot_after = after_proportion.sample(frac=1, replace=True)\n",
    "    \n",
    "    # Calculate the difference in means\n",
    "    mean_diff = boot_after.mean() - boot_before.mean()\n",
    "    \n",
    "    # Append the difference to boot_mean_diff\n",
    "    boot_mean_diff.append(mean_diff)\n",
    "\n",
    "# Calculate the 95% confidence interval\n",
    "confidence_interval = pd.Series(boot_mean_diff).quantile([0.025, 0.975])"
   ]
  },
  {
   "cell_type": "code",
   "execution_count": null,
   "id": "47957f93",
   "metadata": {
    "execution": {
     "iopub.execute_input": "2023-05-18T16:30:33.002228Z",
     "iopub.status.busy": "2023-05-18T16:30:33.001884Z",
     "iopub.status.idle": "2023-05-18T16:30:33.009628Z",
     "shell.execute_reply": "2023-05-18T16:30:33.008228Z",
     "shell.execute_reply.started": "2023-05-18T16:30:33.002203Z"
    },
    "papermill": {
     "duration": null,
     "end_time": null,
     "exception": null,
     "start_time": null,
     "status": "pending"
    },
    "tags": []
   },
   "outputs": [],
   "source": [
    "confidence_interval"
   ]
  },
  {
   "attachments": {},
   "cell_type": "markdown",
   "id": "602e5337",
   "metadata": {
    "papermill": {
     "duration": null,
     "end_time": null,
     "exception": null,
     "start_time": null,
     "status": "pending"
    },
    "tags": []
   },
   "source": [
    "True. Based on the data collected by Semmelweis, it is evident that doctors should wash their hands."
   ]
  },
  {
   "cell_type": "code",
   "execution_count": null,
   "id": "65bc704e",
   "metadata": {
    "papermill": {
     "duration": null,
     "end_time": null,
     "exception": null,
     "start_time": null,
     "status": "pending"
    },
    "tags": []
   },
   "outputs": [],
   "source": []
  }
 ],
 "metadata": {
  "kernelspec": {
   "display_name": "Python 3",
   "language": "python",
   "name": "python3"
  },
  "language_info": {
   "codemirror_mode": {
    "name": "ipython",
    "version": 3
   },
   "file_extension": ".py",
   "mimetype": "text/x-python",
   "name": "python",
   "nbconvert_exporter": "python",
   "pygments_lexer": "ipython3",
   "version": "3.10.10"
  },
  "papermill": {
   "default_parameters": {},
   "duration": 14.779755,
   "end_time": "2023-05-19T11:36:29.032901",
   "environment_variables": {},
   "exception": true,
   "input_path": "__notebook__.ipynb",
   "output_path": "__notebook__.ipynb",
   "parameters": {},
   "start_time": "2023-05-19T11:36:14.253146",
   "version": "2.4.0"
  }
 },
 "nbformat": 4,
 "nbformat_minor": 5
}
