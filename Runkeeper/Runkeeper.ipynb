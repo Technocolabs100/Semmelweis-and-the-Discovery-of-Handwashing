{
 "cells": [
  {
   "cell_type": "markdown",
   "id": "0093fe3f",
   "metadata": {},
   "source": [
    "## Task 1"
   ]
  },
  {
   "cell_type": "markdown",
   "id": "f8d748c1",
   "metadata": {},
   "source": [
    "Load pandas and the training activities data.\n",
    "- Import pandas under the alias pd.\n",
    "- Use the read_csv() function to load the dataset (runkeeper_file) into a variable called df_activities. Parse the dates with the parse_dates parameter and set the index to the Date column using the index_col parameter.\n",
    "- Display 3 random rows from df_activities using the sample() method.\n",
    "- Print a summary of df_activities using the info() method."
   ]
  },
  {
   "cell_type": "code",
   "execution_count": 1,
   "id": "5550f4cd",
   "metadata": {},
   "outputs": [],
   "source": [
    "import pandas as pd"
   ]
  },
  {
   "cell_type": "code",
   "execution_count": 2,
   "id": "42e99201",
   "metadata": {},
   "outputs": [],
   "source": [
    "df_activities = pd.read_csv('cardioActivities.csv', parse_dates=True, index_col='Date')"
   ]
  },
  {
   "cell_type": "code",
   "execution_count": 3,
   "id": "b9a0ba99",
   "metadata": {},
   "outputs": [
    {
     "data": {
      "text/html": [
       "<div>\n",
       "<style scoped>\n",
       "    .dataframe tbody tr th:only-of-type {\n",
       "        vertical-align: middle;\n",
       "    }\n",
       "\n",
       "    .dataframe tbody tr th {\n",
       "        vertical-align: top;\n",
       "    }\n",
       "\n",
       "    .dataframe thead th {\n",
       "        text-align: right;\n",
       "    }\n",
       "</style>\n",
       "<table border=\"1\" class=\"dataframe\">\n",
       "  <thead>\n",
       "    <tr style=\"text-align: right;\">\n",
       "      <th></th>\n",
       "      <th>Activity Id</th>\n",
       "      <th>Type</th>\n",
       "      <th>Route Name</th>\n",
       "      <th>Distance (km)</th>\n",
       "      <th>Duration</th>\n",
       "      <th>Average Pace</th>\n",
       "      <th>Average Speed (km/h)</th>\n",
       "      <th>Calories Burned</th>\n",
       "      <th>Climb (m)</th>\n",
       "      <th>Average Heart Rate (bpm)</th>\n",
       "      <th>Friend's Tagged</th>\n",
       "      <th>Notes</th>\n",
       "      <th>GPX File</th>\n",
       "    </tr>\n",
       "    <tr>\n",
       "      <th>Date</th>\n",
       "      <th></th>\n",
       "      <th></th>\n",
       "      <th></th>\n",
       "      <th></th>\n",
       "      <th></th>\n",
       "      <th></th>\n",
       "      <th></th>\n",
       "      <th></th>\n",
       "      <th></th>\n",
       "      <th></th>\n",
       "      <th></th>\n",
       "      <th></th>\n",
       "      <th></th>\n",
       "    </tr>\n",
       "  </thead>\n",
       "  <tbody>\n",
       "    <tr>\n",
       "      <th>2018-11-11 14:05:12</th>\n",
       "      <td>c9627fed-14ac-47a2-bed3-2a2630c63c15</td>\n",
       "      <td>Running</td>\n",
       "      <td>NaN</td>\n",
       "      <td>10.44</td>\n",
       "      <td>58:40</td>\n",
       "      <td>5:37</td>\n",
       "      <td>10.68</td>\n",
       "      <td>774.0</td>\n",
       "      <td>130</td>\n",
       "      <td>159.0</td>\n",
       "      <td>NaN</td>\n",
       "      <td>NaN</td>\n",
       "      <td>2018-11-11-140512.gpx</td>\n",
       "    </tr>\n",
       "    <tr>\n",
       "      <th>2018-11-09 15:02:35</th>\n",
       "      <td>be65818d-a801-4847-a43b-2acdf4dc70e7</td>\n",
       "      <td>Running</td>\n",
       "      <td>NaN</td>\n",
       "      <td>12.84</td>\n",
       "      <td>1:14:12</td>\n",
       "      <td>5:47</td>\n",
       "      <td>10.39</td>\n",
       "      <td>954.0</td>\n",
       "      <td>168</td>\n",
       "      <td>159.0</td>\n",
       "      <td>NaN</td>\n",
       "      <td>NaN</td>\n",
       "      <td>2018-11-09-150235.gpx</td>\n",
       "    </tr>\n",
       "    <tr>\n",
       "      <th>2018-11-04 16:05:00</th>\n",
       "      <td>c09b2f92-f855-497c-b624-c196b3ef036c</td>\n",
       "      <td>Running</td>\n",
       "      <td>NaN</td>\n",
       "      <td>13.01</td>\n",
       "      <td>1:15:16</td>\n",
       "      <td>5:47</td>\n",
       "      <td>10.37</td>\n",
       "      <td>967.0</td>\n",
       "      <td>171</td>\n",
       "      <td>155.0</td>\n",
       "      <td>NaN</td>\n",
       "      <td>NaN</td>\n",
       "      <td>2018-11-04-160500.gpx</td>\n",
       "    </tr>\n",
       "    <tr>\n",
       "      <th>2018-11-01 14:03:58</th>\n",
       "      <td>bc9b612d-3499-43ff-b82a-9b17b71b8a36</td>\n",
       "      <td>Running</td>\n",
       "      <td>NaN</td>\n",
       "      <td>12.98</td>\n",
       "      <td>1:14:25</td>\n",
       "      <td>5:44</td>\n",
       "      <td>10.47</td>\n",
       "      <td>960.0</td>\n",
       "      <td>169</td>\n",
       "      <td>158.0</td>\n",
       "      <td>NaN</td>\n",
       "      <td>NaN</td>\n",
       "      <td>2018-11-01-140358.gpx</td>\n",
       "    </tr>\n",
       "    <tr>\n",
       "      <th>2018-10-27 17:01:36</th>\n",
       "      <td>972567b2-1b0e-437c-9e82-fef8078d6438</td>\n",
       "      <td>Running</td>\n",
       "      <td>NaN</td>\n",
       "      <td>13.02</td>\n",
       "      <td>1:12:50</td>\n",
       "      <td>5:36</td>\n",
       "      <td>10.73</td>\n",
       "      <td>967.0</td>\n",
       "      <td>170</td>\n",
       "      <td>154.0</td>\n",
       "      <td>NaN</td>\n",
       "      <td>NaN</td>\n",
       "      <td>2018-10-27-170136.gpx</td>\n",
       "    </tr>\n",
       "  </tbody>\n",
       "</table>\n",
       "</div>"
      ],
      "text/plain": [
       "                                              Activity Id     Type Route Name  \\\n",
       "Date                                                                            \n",
       "2018-11-11 14:05:12  c9627fed-14ac-47a2-bed3-2a2630c63c15  Running        NaN   \n",
       "2018-11-09 15:02:35  be65818d-a801-4847-a43b-2acdf4dc70e7  Running        NaN   \n",
       "2018-11-04 16:05:00  c09b2f92-f855-497c-b624-c196b3ef036c  Running        NaN   \n",
       "2018-11-01 14:03:58  bc9b612d-3499-43ff-b82a-9b17b71b8a36  Running        NaN   \n",
       "2018-10-27 17:01:36  972567b2-1b0e-437c-9e82-fef8078d6438  Running        NaN   \n",
       "\n",
       "                     Distance (km) Duration Average Pace  \\\n",
       "Date                                                       \n",
       "2018-11-11 14:05:12          10.44    58:40         5:37   \n",
       "2018-11-09 15:02:35          12.84  1:14:12         5:47   \n",
       "2018-11-04 16:05:00          13.01  1:15:16         5:47   \n",
       "2018-11-01 14:03:58          12.98  1:14:25         5:44   \n",
       "2018-10-27 17:01:36          13.02  1:12:50         5:36   \n",
       "\n",
       "                     Average Speed (km/h)  Calories Burned  Climb (m)  \\\n",
       "Date                                                                    \n",
       "2018-11-11 14:05:12                 10.68            774.0        130   \n",
       "2018-11-09 15:02:35                 10.39            954.0        168   \n",
       "2018-11-04 16:05:00                 10.37            967.0        171   \n",
       "2018-11-01 14:03:58                 10.47            960.0        169   \n",
       "2018-10-27 17:01:36                 10.73            967.0        170   \n",
       "\n",
       "                     Average Heart Rate (bpm)  Friend's Tagged Notes  \\\n",
       "Date                                                                   \n",
       "2018-11-11 14:05:12                     159.0              NaN   NaN   \n",
       "2018-11-09 15:02:35                     159.0              NaN   NaN   \n",
       "2018-11-04 16:05:00                     155.0              NaN   NaN   \n",
       "2018-11-01 14:03:58                     158.0              NaN   NaN   \n",
       "2018-10-27 17:01:36                     154.0              NaN   NaN   \n",
       "\n",
       "                                  GPX File  \n",
       "Date                                        \n",
       "2018-11-11 14:05:12  2018-11-11-140512.gpx  \n",
       "2018-11-09 15:02:35  2018-11-09-150235.gpx  \n",
       "2018-11-04 16:05:00  2018-11-04-160500.gpx  \n",
       "2018-11-01 14:03:58  2018-11-01-140358.gpx  \n",
       "2018-10-27 17:01:36  2018-10-27-170136.gpx  "
      ]
     },
     "execution_count": 3,
     "metadata": {},
     "output_type": "execute_result"
    }
   ],
   "source": [
    "df_activities.head()"
   ]
  },
  {
   "cell_type": "code",
   "execution_count": 4,
   "id": "aebc405a",
   "metadata": {},
   "outputs": [
    {
     "data": {
      "text/html": [
       "<div>\n",
       "<style scoped>\n",
       "    .dataframe tbody tr th:only-of-type {\n",
       "        vertical-align: middle;\n",
       "    }\n",
       "\n",
       "    .dataframe tbody tr th {\n",
       "        vertical-align: top;\n",
       "    }\n",
       "\n",
       "    .dataframe thead th {\n",
       "        text-align: right;\n",
       "    }\n",
       "</style>\n",
       "<table border=\"1\" class=\"dataframe\">\n",
       "  <thead>\n",
       "    <tr style=\"text-align: right;\">\n",
       "      <th></th>\n",
       "      <th>Activity Id</th>\n",
       "      <th>Type</th>\n",
       "      <th>Route Name</th>\n",
       "      <th>Distance (km)</th>\n",
       "      <th>Duration</th>\n",
       "      <th>Average Pace</th>\n",
       "      <th>Average Speed (km/h)</th>\n",
       "      <th>Calories Burned</th>\n",
       "      <th>Climb (m)</th>\n",
       "      <th>Average Heart Rate (bpm)</th>\n",
       "      <th>Friend's Tagged</th>\n",
       "      <th>Notes</th>\n",
       "      <th>GPX File</th>\n",
       "    </tr>\n",
       "    <tr>\n",
       "      <th>Date</th>\n",
       "      <th></th>\n",
       "      <th></th>\n",
       "      <th></th>\n",
       "      <th></th>\n",
       "      <th></th>\n",
       "      <th></th>\n",
       "      <th></th>\n",
       "      <th></th>\n",
       "      <th></th>\n",
       "      <th></th>\n",
       "      <th></th>\n",
       "      <th></th>\n",
       "      <th></th>\n",
       "    </tr>\n",
       "  </thead>\n",
       "  <tbody>\n",
       "    <tr>\n",
       "      <th>2017-09-25 18:39:09</th>\n",
       "      <td>685a3715-03e9-42ad-af5f-4d08ae973c14</td>\n",
       "      <td>Running</td>\n",
       "      <td>NaN</td>\n",
       "      <td>12.75</td>\n",
       "      <td>1:06:43</td>\n",
       "      <td>5:14</td>\n",
       "      <td>11.46</td>\n",
       "      <td>896.0</td>\n",
       "      <td>169</td>\n",
       "      <td>148.0</td>\n",
       "      <td>NaN</td>\n",
       "      <td>TomTom MySports Watch</td>\n",
       "      <td>2017-09-25-183909.gpx</td>\n",
       "    </tr>\n",
       "    <tr>\n",
       "      <th>2013-04-24 18:31:02</th>\n",
       "      <td>75670af6-0184-4f69-9df5-40020f998a66</td>\n",
       "      <td>Running</td>\n",
       "      <td>NaN</td>\n",
       "      <td>6.25</td>\n",
       "      <td>29:29</td>\n",
       "      <td>4:43</td>\n",
       "      <td>12.71</td>\n",
       "      <td>399.0</td>\n",
       "      <td>33</td>\n",
       "      <td>NaN</td>\n",
       "      <td>NaN</td>\n",
       "      <td>NaN</td>\n",
       "      <td>2013-04-24-183102.gpx</td>\n",
       "    </tr>\n",
       "    <tr>\n",
       "      <th>2015-03-16 18:23:38</th>\n",
       "      <td>760c4a61-d435-47ca-a787-005202a803df</td>\n",
       "      <td>Running</td>\n",
       "      <td>NaN</td>\n",
       "      <td>16.15</td>\n",
       "      <td>1:26:37</td>\n",
       "      <td>5:22</td>\n",
       "      <td>11.19</td>\n",
       "      <td>1118.0</td>\n",
       "      <td>133</td>\n",
       "      <td>131.0</td>\n",
       "      <td>NaN</td>\n",
       "      <td>NaN</td>\n",
       "      <td>2015-03-16-182338.gpx</td>\n",
       "    </tr>\n",
       "  </tbody>\n",
       "</table>\n",
       "</div>"
      ],
      "text/plain": [
       "                                              Activity Id     Type Route Name  \\\n",
       "Date                                                                            \n",
       "2017-09-25 18:39:09  685a3715-03e9-42ad-af5f-4d08ae973c14  Running        NaN   \n",
       "2013-04-24 18:31:02  75670af6-0184-4f69-9df5-40020f998a66  Running        NaN   \n",
       "2015-03-16 18:23:38  760c4a61-d435-47ca-a787-005202a803df  Running        NaN   \n",
       "\n",
       "                     Distance (km) Duration Average Pace  \\\n",
       "Date                                                       \n",
       "2017-09-25 18:39:09          12.75  1:06:43         5:14   \n",
       "2013-04-24 18:31:02           6.25    29:29         4:43   \n",
       "2015-03-16 18:23:38          16.15  1:26:37         5:22   \n",
       "\n",
       "                     Average Speed (km/h)  Calories Burned  Climb (m)  \\\n",
       "Date                                                                    \n",
       "2017-09-25 18:39:09                 11.46            896.0        169   \n",
       "2013-04-24 18:31:02                 12.71            399.0         33   \n",
       "2015-03-16 18:23:38                 11.19           1118.0        133   \n",
       "\n",
       "                     Average Heart Rate (bpm)  Friend's Tagged  \\\n",
       "Date                                                             \n",
       "2017-09-25 18:39:09                     148.0              NaN   \n",
       "2013-04-24 18:31:02                       NaN              NaN   \n",
       "2015-03-16 18:23:38                     131.0              NaN   \n",
       "\n",
       "                                     Notes               GPX File  \n",
       "Date                                                               \n",
       "2017-09-25 18:39:09  TomTom MySports Watch  2017-09-25-183909.gpx  \n",
       "2013-04-24 18:31:02                    NaN  2013-04-24-183102.gpx  \n",
       "2015-03-16 18:23:38                    NaN  2015-03-16-182338.gpx  "
      ]
     },
     "execution_count": 4,
     "metadata": {},
     "output_type": "execute_result"
    }
   ],
   "source": [
    "df_activities.sample(n=3)"
   ]
  },
  {
   "cell_type": "code",
   "execution_count": 5,
   "id": "96fcc0a4",
   "metadata": {},
   "outputs": [
    {
     "name": "stdout",
     "output_type": "stream",
     "text": [
      "<class 'pandas.core.frame.DataFrame'>\n",
      "DatetimeIndex: 508 entries, 2018-11-11 14:05:12 to 2012-08-22 18:53:54\n",
      "Data columns (total 13 columns):\n",
      " #   Column                    Non-Null Count  Dtype  \n",
      "---  ------                    --------------  -----  \n",
      " 0   Activity Id               508 non-null    object \n",
      " 1   Type                      508 non-null    object \n",
      " 2   Route Name                1 non-null      object \n",
      " 3   Distance (km)             508 non-null    float64\n",
      " 4   Duration                  508 non-null    object \n",
      " 5   Average Pace              508 non-null    object \n",
      " 6   Average Speed (km/h)      508 non-null    float64\n",
      " 7   Calories Burned           508 non-null    float64\n",
      " 8   Climb (m)                 508 non-null    int64  \n",
      " 9   Average Heart Rate (bpm)  294 non-null    float64\n",
      " 10  Friend's Tagged           0 non-null      float64\n",
      " 11  Notes                     231 non-null    object \n",
      " 12  GPX File                  504 non-null    object \n",
      "dtypes: float64(5), int64(1), object(7)\n",
      "memory usage: 55.6+ KB\n"
     ]
    }
   ],
   "source": [
    "df_activities.info()"
   ]
  },
  {
   "cell_type": "markdown",
   "id": "a59ecdba",
   "metadata": {},
   "source": [
    "## Task 2"
   ]
  },
  {
   "cell_type": "markdown",
   "id": "b16ee0a6",
   "metadata": {},
   "source": [
    "Data Preprocessing\n",
    "- Delete unnecessary columns from df_activities with the drop() method, setting the columns parameter to the cols_to_drop list.\n",
    "- Calculate the activity type counts using the value_counts() method on the Type column.\n",
    "- Rename the 'Other' values to 'Unicycling' in the Type column using str.replace().\n",
    "- Count the missing values in each column using isnull().sum()."
   ]
  },
  {
   "cell_type": "code",
   "execution_count": 6,
   "id": "10322e3a",
   "metadata": {},
   "outputs": [],
   "source": [
    "cols_to_drop = ['Route Name', 'Notes', \"Friend's Tagged\", \"Calories Burned\", \"GPX File\"]\n",
    "df_activities.drop(columns=cols_to_drop, inplace=True)"
   ]
  },
  {
   "cell_type": "code",
   "execution_count": 7,
   "id": "2d6f0bf0",
   "metadata": {},
   "outputs": [
    {
     "data": {
      "text/plain": [
       "Running    459\n",
       "Cycling     29\n",
       "Walking     18\n",
       "Other        2\n",
       "Name: Type, dtype: int64"
      ]
     },
     "execution_count": 7,
     "metadata": {},
     "output_type": "execute_result"
    }
   ],
   "source": [
    "df_activities['Type'].value_counts()"
   ]
  },
  {
   "cell_type": "code",
   "execution_count": 8,
   "id": "8657383f",
   "metadata": {},
   "outputs": [],
   "source": [
    "df_activities['Type']=df_activities['Type'].str.replace('Other', 'Unicycling')"
   ]
  },
  {
   "cell_type": "code",
   "execution_count": 9,
   "id": "7fe908af",
   "metadata": {},
   "outputs": [
    {
     "data": {
      "text/html": [
       "<div>\n",
       "<style scoped>\n",
       "    .dataframe tbody tr th:only-of-type {\n",
       "        vertical-align: middle;\n",
       "    }\n",
       "\n",
       "    .dataframe tbody tr th {\n",
       "        vertical-align: top;\n",
       "    }\n",
       "\n",
       "    .dataframe thead th {\n",
       "        text-align: right;\n",
       "    }\n",
       "</style>\n",
       "<table border=\"1\" class=\"dataframe\">\n",
       "  <thead>\n",
       "    <tr style=\"text-align: right;\">\n",
       "      <th></th>\n",
       "      <th>Activity Id</th>\n",
       "      <th>Type</th>\n",
       "      <th>Distance (km)</th>\n",
       "      <th>Duration</th>\n",
       "      <th>Average Pace</th>\n",
       "      <th>Average Speed (km/h)</th>\n",
       "      <th>Climb (m)</th>\n",
       "      <th>Average Heart Rate (bpm)</th>\n",
       "    </tr>\n",
       "    <tr>\n",
       "      <th>Date</th>\n",
       "      <th></th>\n",
       "      <th></th>\n",
       "      <th></th>\n",
       "      <th></th>\n",
       "      <th></th>\n",
       "      <th></th>\n",
       "      <th></th>\n",
       "      <th></th>\n",
       "    </tr>\n",
       "  </thead>\n",
       "  <tbody>\n",
       "    <tr>\n",
       "      <th>2018-09-02 17:24:28</th>\n",
       "      <td>51781e97-560e-48d0-9522-44f303f9235f</td>\n",
       "      <td>Unicycling</td>\n",
       "      <td>17.65</td>\n",
       "      <td>1:01:28</td>\n",
       "      <td>3:29</td>\n",
       "      <td>17.23</td>\n",
       "      <td>219</td>\n",
       "      <td>77.0</td>\n",
       "    </tr>\n",
       "    <tr>\n",
       "      <th>2018-07-31 18:25:24</th>\n",
       "      <td>a929c543-bc2e-446d-9431-40e60fbc6270</td>\n",
       "      <td>Unicycling</td>\n",
       "      <td>16.80</td>\n",
       "      <td>1:07:21</td>\n",
       "      <td>4:01</td>\n",
       "      <td>14.97</td>\n",
       "      <td>202</td>\n",
       "      <td>94.0</td>\n",
       "    </tr>\n",
       "  </tbody>\n",
       "</table>\n",
       "</div>"
      ],
      "text/plain": [
       "                                              Activity Id        Type  \\\n",
       "Date                                                                    \n",
       "2018-09-02 17:24:28  51781e97-560e-48d0-9522-44f303f9235f  Unicycling   \n",
       "2018-07-31 18:25:24  a929c543-bc2e-446d-9431-40e60fbc6270  Unicycling   \n",
       "\n",
       "                     Distance (km) Duration Average Pace  \\\n",
       "Date                                                       \n",
       "2018-09-02 17:24:28          17.65  1:01:28         3:29   \n",
       "2018-07-31 18:25:24          16.80  1:07:21         4:01   \n",
       "\n",
       "                     Average Speed (km/h)  Climb (m)  Average Heart Rate (bpm)  \n",
       "Date                                                                            \n",
       "2018-09-02 17:24:28                 17.23        219                      77.0  \n",
       "2018-07-31 18:25:24                 14.97        202                      94.0  "
      ]
     },
     "execution_count": 9,
     "metadata": {},
     "output_type": "execute_result"
    }
   ],
   "source": [
    "df_activities[df_activities['Type']=='Unicycling']"
   ]
  },
  {
   "cell_type": "code",
   "execution_count": 10,
   "id": "0705ec14",
   "metadata": {},
   "outputs": [
    {
     "data": {
      "text/plain": [
       "Activity Id                   0\n",
       "Type                          0\n",
       "Distance (km)                 0\n",
       "Duration                      0\n",
       "Average Pace                  0\n",
       "Average Speed (km/h)          0\n",
       "Climb (m)                     0\n",
       "Average Heart Rate (bpm)    214\n",
       "dtype: int64"
      ]
     },
     "execution_count": 10,
     "metadata": {},
     "output_type": "execute_result"
    }
   ],
   "source": [
    "df_activities.isnull().sum()"
   ]
  },
  {
   "cell_type": "markdown",
   "id": "4f5dfff6",
   "metadata": {},
   "source": [
    "## Task 3"
   ]
  },
  {
   "cell_type": "markdown",
   "id": "b088917c",
   "metadata": {},
   "source": [
    "- Calculate the sample mean for Average Heart Rate (bpm) for the 'Cycling' activity type. Assign the result to avg_hr_cycle."
   ]
  },
  {
   "cell_type": "code",
   "execution_count": 11,
   "id": "a8537fc5",
   "metadata": {},
   "outputs": [],
   "source": [
    "avg_hr_cycle = df_activities['Average Heart Rate (bpm)'].mean()"
   ]
  },
  {
   "cell_type": "code",
   "execution_count": 12,
   "id": "91465db5",
   "metadata": {},
   "outputs": [
    {
     "data": {
      "text/plain": [
       "143.53061224489795"
      ]
     },
     "execution_count": 12,
     "metadata": {},
     "output_type": "execute_result"
    }
   ],
   "source": [
    "avg_hr_cycle"
   ]
  },
  {
   "cell_type": "markdown",
   "id": "2e7d2faf",
   "metadata": {},
   "source": [
    "- Filter the df_activities for the 'Cycling' activity type. Create a copy of the result using copy() and assign the copy to df_cycle."
   ]
  },
  {
   "cell_type": "code",
   "execution_count": 13,
   "id": "510591c4",
   "metadata": {},
   "outputs": [],
   "source": [
    "df_cycle = df_activities[df_activities['Type'] == 'Cycling'].copy()"
   ]
  },
  {
   "cell_type": "code",
   "execution_count": 14,
   "id": "8f344fdc",
   "metadata": {},
   "outputs": [
    {
     "data": {
      "text/html": [
       "<div>\n",
       "<style scoped>\n",
       "    .dataframe tbody tr th:only-of-type {\n",
       "        vertical-align: middle;\n",
       "    }\n",
       "\n",
       "    .dataframe tbody tr th {\n",
       "        vertical-align: top;\n",
       "    }\n",
       "\n",
       "    .dataframe thead th {\n",
       "        text-align: right;\n",
       "    }\n",
       "</style>\n",
       "<table border=\"1\" class=\"dataframe\">\n",
       "  <thead>\n",
       "    <tr style=\"text-align: right;\">\n",
       "      <th></th>\n",
       "      <th>Activity Id</th>\n",
       "      <th>Type</th>\n",
       "      <th>Distance (km)</th>\n",
       "      <th>Duration</th>\n",
       "      <th>Average Pace</th>\n",
       "      <th>Average Speed (km/h)</th>\n",
       "      <th>Climb (m)</th>\n",
       "      <th>Average Heart Rate (bpm)</th>\n",
       "    </tr>\n",
       "    <tr>\n",
       "      <th>Date</th>\n",
       "      <th></th>\n",
       "      <th></th>\n",
       "      <th></th>\n",
       "      <th></th>\n",
       "      <th></th>\n",
       "      <th></th>\n",
       "      <th></th>\n",
       "      <th></th>\n",
       "    </tr>\n",
       "  </thead>\n",
       "  <tbody>\n",
       "    <tr>\n",
       "      <th>2018-10-06 16:45:02</th>\n",
       "      <td>4c163abe-3a57-42fd-b50b-7f365960cbd4</td>\n",
       "      <td>Cycling</td>\n",
       "      <td>19.63</td>\n",
       "      <td>1:26:26</td>\n",
       "      <td>4:24</td>\n",
       "      <td>13.63</td>\n",
       "      <td>210</td>\n",
       "      <td>79.0</td>\n",
       "    </tr>\n",
       "    <tr>\n",
       "      <th>2018-09-16 14:55:03</th>\n",
       "      <td>30aaa821-1d3a-4f2f-9688-8543cebbd6e8</td>\n",
       "      <td>Cycling</td>\n",
       "      <td>32.61</td>\n",
       "      <td>1:55:15</td>\n",
       "      <td>3:32</td>\n",
       "      <td>16.98</td>\n",
       "      <td>462</td>\n",
       "      <td>118.0</td>\n",
       "    </tr>\n",
       "    <tr>\n",
       "      <th>2018-09-01 17:06:15</th>\n",
       "      <td>2bd1841f-b428-4683-a41b-2bfb4be7e908</td>\n",
       "      <td>Cycling</td>\n",
       "      <td>36.89</td>\n",
       "      <td>1:58:39</td>\n",
       "      <td>3:13</td>\n",
       "      <td>18.65</td>\n",
       "      <td>491</td>\n",
       "      <td>122.0</td>\n",
       "    </tr>\n",
       "    <tr>\n",
       "      <th>2018-08-28 18:44:33</th>\n",
       "      <td>c9a8e088-441d-4b3f-bfbc-287e87585ca7</td>\n",
       "      <td>Cycling</td>\n",
       "      <td>28.17</td>\n",
       "      <td>1:27:07</td>\n",
       "      <td>3:06</td>\n",
       "      <td>19.40</td>\n",
       "      <td>400</td>\n",
       "      <td>111.0</td>\n",
       "    </tr>\n",
       "    <tr>\n",
       "      <th>2018-08-25 17:18:32</th>\n",
       "      <td>12723b6e-571b-4b68-be17-2c797982d3f9</td>\n",
       "      <td>Cycling</td>\n",
       "      <td>19.41</td>\n",
       "      <td>1:11:33</td>\n",
       "      <td>3:41</td>\n",
       "      <td>16.28</td>\n",
       "      <td>199</td>\n",
       "      <td>124.0</td>\n",
       "    </tr>\n",
       "  </tbody>\n",
       "</table>\n",
       "</div>"
      ],
      "text/plain": [
       "                                              Activity Id     Type  \\\n",
       "Date                                                                 \n",
       "2018-10-06 16:45:02  4c163abe-3a57-42fd-b50b-7f365960cbd4  Cycling   \n",
       "2018-09-16 14:55:03  30aaa821-1d3a-4f2f-9688-8543cebbd6e8  Cycling   \n",
       "2018-09-01 17:06:15  2bd1841f-b428-4683-a41b-2bfb4be7e908  Cycling   \n",
       "2018-08-28 18:44:33  c9a8e088-441d-4b3f-bfbc-287e87585ca7  Cycling   \n",
       "2018-08-25 17:18:32  12723b6e-571b-4b68-be17-2c797982d3f9  Cycling   \n",
       "\n",
       "                     Distance (km) Duration Average Pace  \\\n",
       "Date                                                       \n",
       "2018-10-06 16:45:02          19.63  1:26:26         4:24   \n",
       "2018-09-16 14:55:03          32.61  1:55:15         3:32   \n",
       "2018-09-01 17:06:15          36.89  1:58:39         3:13   \n",
       "2018-08-28 18:44:33          28.17  1:27:07         3:06   \n",
       "2018-08-25 17:18:32          19.41  1:11:33         3:41   \n",
       "\n",
       "                     Average Speed (km/h)  Climb (m)  Average Heart Rate (bpm)  \n",
       "Date                                                                            \n",
       "2018-10-06 16:45:02                 13.63        210                      79.0  \n",
       "2018-09-16 14:55:03                 16.98        462                     118.0  \n",
       "2018-09-01 17:06:15                 18.65        491                     122.0  \n",
       "2018-08-28 18:44:33                 19.40        400                     111.0  \n",
       "2018-08-25 17:18:32                 16.28        199                     124.0  "
      ]
     },
     "execution_count": 14,
     "metadata": {},
     "output_type": "execute_result"
    }
   ],
   "source": [
    "df_cycle.head()"
   ]
  },
  {
   "cell_type": "code",
   "execution_count": 15,
   "id": "0d81dfc7",
   "metadata": {},
   "outputs": [
    {
     "name": "stdout",
     "output_type": "stream",
     "text": [
      "<class 'pandas.core.frame.DataFrame'>\n",
      "DatetimeIndex: 29 entries, 2018-10-06 16:45:02 to 2013-04-28 17:26:52\n",
      "Data columns (total 8 columns):\n",
      " #   Column                    Non-Null Count  Dtype  \n",
      "---  ------                    --------------  -----  \n",
      " 0   Activity Id               29 non-null     object \n",
      " 1   Type                      29 non-null     object \n",
      " 2   Distance (km)             29 non-null     float64\n",
      " 3   Duration                  29 non-null     object \n",
      " 4   Average Pace              29 non-null     object \n",
      " 5   Average Speed (km/h)      29 non-null     float64\n",
      " 6   Climb (m)                 29 non-null     int64  \n",
      " 7   Average Heart Rate (bpm)  15 non-null     float64\n",
      "dtypes: float64(3), int64(1), object(4)\n",
      "memory usage: 2.0+ KB\n"
     ]
    }
   ],
   "source": [
    "df_cycle.info()"
   ]
  },
  {
   "cell_type": "markdown",
   "id": "29517726",
   "metadata": {},
   "source": [
    "- Fill in the missing values for Average Heart Rate (bpm) in df_cycle with int(avg_hr_cycle) using the fillna() method."
   ]
  },
  {
   "cell_type": "code",
   "execution_count": 16,
   "id": "43df95b3",
   "metadata": {},
   "outputs": [],
   "source": [
    "df_cycle['Average Heart Rate (bpm)'].fillna(int(avg_hr_cycle), inplace=True)"
   ]
  },
  {
   "cell_type": "code",
   "execution_count": 17,
   "id": "df02d0e1",
   "metadata": {},
   "outputs": [
    {
     "name": "stdout",
     "output_type": "stream",
     "text": [
      "<class 'pandas.core.frame.DataFrame'>\n",
      "DatetimeIndex: 29 entries, 2018-10-06 16:45:02 to 2013-04-28 17:26:52\n",
      "Data columns (total 8 columns):\n",
      " #   Column                    Non-Null Count  Dtype  \n",
      "---  ------                    --------------  -----  \n",
      " 0   Activity Id               29 non-null     object \n",
      " 1   Type                      29 non-null     object \n",
      " 2   Distance (km)             29 non-null     float64\n",
      " 3   Duration                  29 non-null     object \n",
      " 4   Average Pace              29 non-null     object \n",
      " 5   Average Speed (km/h)      29 non-null     float64\n",
      " 6   Climb (m)                 29 non-null     int64  \n",
      " 7   Average Heart Rate (bpm)  29 non-null     float64\n",
      "dtypes: float64(3), int64(1), object(4)\n",
      "memory usage: 2.0+ KB\n"
     ]
    }
   ],
   "source": [
    "df_cycle.info()"
   ]
  },
  {
   "cell_type": "markdown",
   "id": "e0193a59",
   "metadata": {},
   "source": [
    "- Count the missing values for all columns in df_run."
   ]
  },
  {
   "cell_type": "code",
   "execution_count": 18,
   "id": "903d5b21",
   "metadata": {},
   "outputs": [],
   "source": [
    "df_run = df_activities[df_activities['Type'] == 'Running'].copy()"
   ]
  },
  {
   "cell_type": "code",
   "execution_count": 19,
   "id": "3fe90e76",
   "metadata": {},
   "outputs": [
    {
     "data": {
      "text/plain": [
       "Activity Id                   0\n",
       "Type                          0\n",
       "Distance (km)                 0\n",
       "Duration                      0\n",
       "Average Pace                  0\n",
       "Average Speed (km/h)          0\n",
       "Climb (m)                     0\n",
       "Average Heart Rate (bpm)    182\n",
       "dtype: int64"
      ]
     },
     "execution_count": 19,
     "metadata": {},
     "output_type": "execute_result"
    }
   ],
   "source": [
    "df_run.isnull().sum()"
   ]
  },
  {
   "cell_type": "markdown",
   "id": "1f2264b1",
   "metadata": {},
   "source": [
    "## Task 4"
   ]
  },
  {
   "cell_type": "markdown",
   "id": "b6d1b3d8",
   "metadata": {},
   "source": [
    "Plot running data from 2013 through 2018.\n",
    "- Subset df_run for data from 2013 through 2018. Take into account that observations in dataset stored in chronological order - most recent records first. Assign the result to runs_subset_2013_2018.\n",
    "- Show the plot using plt.show()."
   ]
  },
  {
   "cell_type": "code",
   "execution_count": 20,
   "id": "a57ce1ff",
   "metadata": {},
   "outputs": [
    {
     "name": "stderr",
     "output_type": "stream",
     "text": [
      "C:\\Users\\hp\\AppData\\Local\\Temp\\ipykernel_14048\\1302577714.py:1: FutureWarning: Value based partial slicing on non-monotonic DatetimeIndexes with non-existing keys is deprecated and will raise a KeyError in a future Version.\n",
      "  runs_subset_2013_2018 = df_run['2013-01-01':'2018-12-30']\n"
     ]
    }
   ],
   "source": [
    "runs_subset_2013_2018 = df_run['2013-01-01':'2018-12-30']"
   ]
  },
  {
   "cell_type": "code",
   "execution_count": 21,
   "id": "4ad2b83b",
   "metadata": {},
   "outputs": [
    {
     "data": {
      "text/html": [
       "<div>\n",
       "<style scoped>\n",
       "    .dataframe tbody tr th:only-of-type {\n",
       "        vertical-align: middle;\n",
       "    }\n",
       "\n",
       "    .dataframe tbody tr th {\n",
       "        vertical-align: top;\n",
       "    }\n",
       "\n",
       "    .dataframe thead th {\n",
       "        text-align: right;\n",
       "    }\n",
       "</style>\n",
       "<table border=\"1\" class=\"dataframe\">\n",
       "  <thead>\n",
       "    <tr style=\"text-align: right;\">\n",
       "      <th></th>\n",
       "      <th>Activity Id</th>\n",
       "      <th>Type</th>\n",
       "      <th>Distance (km)</th>\n",
       "      <th>Duration</th>\n",
       "      <th>Average Pace</th>\n",
       "      <th>Average Speed (km/h)</th>\n",
       "      <th>Climb (m)</th>\n",
       "      <th>Average Heart Rate (bpm)</th>\n",
       "    </tr>\n",
       "    <tr>\n",
       "      <th>Date</th>\n",
       "      <th></th>\n",
       "      <th></th>\n",
       "      <th></th>\n",
       "      <th></th>\n",
       "      <th></th>\n",
       "      <th></th>\n",
       "      <th></th>\n",
       "      <th></th>\n",
       "    </tr>\n",
       "  </thead>\n",
       "  <tbody>\n",
       "    <tr>\n",
       "      <th>2018-11-11 14:05:12</th>\n",
       "      <td>c9627fed-14ac-47a2-bed3-2a2630c63c15</td>\n",
       "      <td>Running</td>\n",
       "      <td>10.44</td>\n",
       "      <td>58:40</td>\n",
       "      <td>5:37</td>\n",
       "      <td>10.68</td>\n",
       "      <td>130</td>\n",
       "      <td>159.0</td>\n",
       "    </tr>\n",
       "    <tr>\n",
       "      <th>2018-11-09 15:02:35</th>\n",
       "      <td>be65818d-a801-4847-a43b-2acdf4dc70e7</td>\n",
       "      <td>Running</td>\n",
       "      <td>12.84</td>\n",
       "      <td>1:14:12</td>\n",
       "      <td>5:47</td>\n",
       "      <td>10.39</td>\n",
       "      <td>168</td>\n",
       "      <td>159.0</td>\n",
       "    </tr>\n",
       "    <tr>\n",
       "      <th>2018-11-04 16:05:00</th>\n",
       "      <td>c09b2f92-f855-497c-b624-c196b3ef036c</td>\n",
       "      <td>Running</td>\n",
       "      <td>13.01</td>\n",
       "      <td>1:15:16</td>\n",
       "      <td>5:47</td>\n",
       "      <td>10.37</td>\n",
       "      <td>171</td>\n",
       "      <td>155.0</td>\n",
       "    </tr>\n",
       "    <tr>\n",
       "      <th>2018-11-01 14:03:58</th>\n",
       "      <td>bc9b612d-3499-43ff-b82a-9b17b71b8a36</td>\n",
       "      <td>Running</td>\n",
       "      <td>12.98</td>\n",
       "      <td>1:14:25</td>\n",
       "      <td>5:44</td>\n",
       "      <td>10.47</td>\n",
       "      <td>169</td>\n",
       "      <td>158.0</td>\n",
       "    </tr>\n",
       "    <tr>\n",
       "      <th>2018-10-27 17:01:36</th>\n",
       "      <td>972567b2-1b0e-437c-9e82-fef8078d6438</td>\n",
       "      <td>Running</td>\n",
       "      <td>13.02</td>\n",
       "      <td>1:12:50</td>\n",
       "      <td>5:36</td>\n",
       "      <td>10.73</td>\n",
       "      <td>170</td>\n",
       "      <td>154.0</td>\n",
       "    </tr>\n",
       "    <tr>\n",
       "      <th>...</th>\n",
       "      <td>...</td>\n",
       "      <td>...</td>\n",
       "      <td>...</td>\n",
       "      <td>...</td>\n",
       "      <td>...</td>\n",
       "      <td>...</td>\n",
       "      <td>...</td>\n",
       "      <td>...</td>\n",
       "    </tr>\n",
       "    <tr>\n",
       "      <th>2013-01-23 18:38:29</th>\n",
       "      <td>0ee9afe5-668e-4801-9fd3-6208ec87f2e6</td>\n",
       "      <td>Running</td>\n",
       "      <td>8.65</td>\n",
       "      <td>50:13</td>\n",
       "      <td>5:48</td>\n",
       "      <td>10.34</td>\n",
       "      <td>45</td>\n",
       "      <td>NaN</td>\n",
       "    </tr>\n",
       "    <tr>\n",
       "      <th>2013-01-19 09:58:50</th>\n",
       "      <td>98321fac-a333-47d7-b568-1c609096a08f</td>\n",
       "      <td>Running</td>\n",
       "      <td>3.39</td>\n",
       "      <td>15:56</td>\n",
       "      <td>4:42</td>\n",
       "      <td>12.75</td>\n",
       "      <td>15</td>\n",
       "      <td>NaN</td>\n",
       "    </tr>\n",
       "    <tr>\n",
       "      <th>2013-01-15 18:40:08</th>\n",
       "      <td>7c512661-6a01-4ef0-80dd-b8119d5f8a59</td>\n",
       "      <td>Running</td>\n",
       "      <td>6.72</td>\n",
       "      <td>32:42</td>\n",
       "      <td>4:52</td>\n",
       "      <td>12.34</td>\n",
       "      <td>32</td>\n",
       "      <td>NaN</td>\n",
       "    </tr>\n",
       "    <tr>\n",
       "      <th>2013-01-12 08:39:55</th>\n",
       "      <td>3a08d9a1-fc17-4002-80c1-419700be1e22</td>\n",
       "      <td>Running</td>\n",
       "      <td>3.09</td>\n",
       "      <td>20:07</td>\n",
       "      <td>6:31</td>\n",
       "      <td>9.21</td>\n",
       "      <td>13</td>\n",
       "      <td>NaN</td>\n",
       "    </tr>\n",
       "    <tr>\n",
       "      <th>2013-01-02 18:35:11</th>\n",
       "      <td>57ff5696-7610-4296-903a-88c63c207603</td>\n",
       "      <td>Running</td>\n",
       "      <td>5.47</td>\n",
       "      <td>31:24</td>\n",
       "      <td>5:45</td>\n",
       "      <td>10.44</td>\n",
       "      <td>28</td>\n",
       "      <td>NaN</td>\n",
       "    </tr>\n",
       "  </tbody>\n",
       "</table>\n",
       "<p>438 rows × 8 columns</p>\n",
       "</div>"
      ],
      "text/plain": [
       "                                              Activity Id     Type  \\\n",
       "Date                                                                 \n",
       "2018-11-11 14:05:12  c9627fed-14ac-47a2-bed3-2a2630c63c15  Running   \n",
       "2018-11-09 15:02:35  be65818d-a801-4847-a43b-2acdf4dc70e7  Running   \n",
       "2018-11-04 16:05:00  c09b2f92-f855-497c-b624-c196b3ef036c  Running   \n",
       "2018-11-01 14:03:58  bc9b612d-3499-43ff-b82a-9b17b71b8a36  Running   \n",
       "2018-10-27 17:01:36  972567b2-1b0e-437c-9e82-fef8078d6438  Running   \n",
       "...                                                   ...      ...   \n",
       "2013-01-23 18:38:29  0ee9afe5-668e-4801-9fd3-6208ec87f2e6  Running   \n",
       "2013-01-19 09:58:50  98321fac-a333-47d7-b568-1c609096a08f  Running   \n",
       "2013-01-15 18:40:08  7c512661-6a01-4ef0-80dd-b8119d5f8a59  Running   \n",
       "2013-01-12 08:39:55  3a08d9a1-fc17-4002-80c1-419700be1e22  Running   \n",
       "2013-01-02 18:35:11  57ff5696-7610-4296-903a-88c63c207603  Running   \n",
       "\n",
       "                     Distance (km) Duration Average Pace  \\\n",
       "Date                                                       \n",
       "2018-11-11 14:05:12          10.44    58:40         5:37   \n",
       "2018-11-09 15:02:35          12.84  1:14:12         5:47   \n",
       "2018-11-04 16:05:00          13.01  1:15:16         5:47   \n",
       "2018-11-01 14:03:58          12.98  1:14:25         5:44   \n",
       "2018-10-27 17:01:36          13.02  1:12:50         5:36   \n",
       "...                            ...      ...          ...   \n",
       "2013-01-23 18:38:29           8.65    50:13         5:48   \n",
       "2013-01-19 09:58:50           3.39    15:56         4:42   \n",
       "2013-01-15 18:40:08           6.72    32:42         4:52   \n",
       "2013-01-12 08:39:55           3.09    20:07         6:31   \n",
       "2013-01-02 18:35:11           5.47    31:24         5:45   \n",
       "\n",
       "                     Average Speed (km/h)  Climb (m)  Average Heart Rate (bpm)  \n",
       "Date                                                                            \n",
       "2018-11-11 14:05:12                 10.68        130                     159.0  \n",
       "2018-11-09 15:02:35                 10.39        168                     159.0  \n",
       "2018-11-04 16:05:00                 10.37        171                     155.0  \n",
       "2018-11-01 14:03:58                 10.47        169                     158.0  \n",
       "2018-10-27 17:01:36                 10.73        170                     154.0  \n",
       "...                                   ...        ...                       ...  \n",
       "2013-01-23 18:38:29                 10.34         45                       NaN  \n",
       "2013-01-19 09:58:50                 12.75         15                       NaN  \n",
       "2013-01-15 18:40:08                 12.34         32                       NaN  \n",
       "2013-01-12 08:39:55                  9.21         13                       NaN  \n",
       "2013-01-02 18:35:11                 10.44         28                       NaN  \n",
       "\n",
       "[438 rows x 8 columns]"
      ]
     },
     "execution_count": 21,
     "metadata": {},
     "output_type": "execute_result"
    }
   ],
   "source": [
    "runs_subset_2013_2018"
   ]
  },
  {
   "cell_type": "code",
   "execution_count": 22,
   "id": "04e97655",
   "metadata": {},
   "outputs": [
    {
     "data": {
      "image/png": "[encoded data removed]",
      "text/plain": [
       "<Figure size 1000x1000 with 4 Axes>"
      ]
     },
     "metadata": {},
     "output_type": "display_data"
    }
   ],
   "source": [
    "import matplotlib.pyplot as plt\n",
    "runs_subset_2013_2018.plot(subplots=True, figsize=(10,10));\n",
    "plt.show();"
   ]
  },
  {
   "cell_type": "markdown",
   "id": "9fa4b282",
   "metadata": {},
   "source": [
    "## Task 5"
   ]
  },
  {
   "cell_type": "markdown",
   "id": "31d0b8c0",
   "metadata": {},
   "source": [
    "Calculate annual and weekly means for Distance (km), Average Speed (km/h), Climb (m) and Average Heart Rate (bpm).\n",
    "- Subset df_run for data from 2015 through 2018. Assign the result to runs_subset_2015_2018.\n",
    "- Count the annual averages using resample() with 'A' alias, and the mean() method for runs_subset_2015_2018.\n",
    "- Count the average weekly statistics using resample() with 'W' alias, and the mean() method twice.\n",
    "- Filter from dataset column Distance (km) and count the average number of trainings per week using resample() with the count() and mean() methods. Assign the result to weekly_counts_average."
   ]
  },
  {
   "cell_type": "code",
   "execution_count": 23,
   "id": "d1b87ca4",
   "metadata": {},
   "outputs": [
    {
     "name": "stderr",
     "output_type": "stream",
     "text": [
      "C:\\Users\\hp\\AppData\\Local\\Temp\\ipykernel_14048\\4116106020.py:1: FutureWarning: Value based partial slicing on non-monotonic DatetimeIndexes with non-existing keys is deprecated and will raise a KeyError in a future Version.\n",
      "  runs_subset_2015_2018 = df_run['2015-01-01':'2018-12-30']\n"
     ]
    }
   ],
   "source": [
    "runs_subset_2015_2018 = df_run['2015-01-01':'2018-12-30']"
   ]
  },
  {
   "cell_type": "code",
   "execution_count": 24,
   "id": "01b2fd4d",
   "metadata": {},
   "outputs": [
    {
     "name": "stderr",
     "output_type": "stream",
     "text": [
      "C:\\Users\\hp\\AppData\\Local\\Temp\\ipykernel_14048\\718948037.py:1: FutureWarning: The default value of numeric_only in DataFrameGroupBy.mean is deprecated. In a future version, numeric_only will default to False. Either specify numeric_only or select only columns which should be valid for the function.\n",
      "  runs_subset_2015_2018.resample('A').mean()\n"
     ]
    },
    {
     "data": {
      "text/html": [
       "<div>\n",
       "<style scoped>\n",
       "    .dataframe tbody tr th:only-of-type {\n",
       "        vertical-align: middle;\n",
       "    }\n",
       "\n",
       "    .dataframe tbody tr th {\n",
       "        vertical-align: top;\n",
       "    }\n",
       "\n",
       "    .dataframe thead th {\n",
       "        text-align: right;\n",
       "    }\n",
       "</style>\n",
       "<table border=\"1\" class=\"dataframe\">\n",
       "  <thead>\n",
       "    <tr style=\"text-align: right;\">\n",
       "      <th></th>\n",
       "      <th>Distance (km)</th>\n",
       "      <th>Average Speed (km/h)</th>\n",
       "      <th>Climb (m)</th>\n",
       "      <th>Average Heart Rate (bpm)</th>\n",
       "    </tr>\n",
       "    <tr>\n",
       "      <th>Date</th>\n",
       "      <th></th>\n",
       "      <th></th>\n",
       "      <th></th>\n",
       "      <th></th>\n",
       "    </tr>\n",
       "  </thead>\n",
       "  <tbody>\n",
       "    <tr>\n",
       "      <th>2015-12-31</th>\n",
       "      <td>13.602805</td>\n",
       "      <td>10.998902</td>\n",
       "      <td>160.170732</td>\n",
       "      <td>143.231884</td>\n",
       "    </tr>\n",
       "    <tr>\n",
       "      <th>2016-12-31</th>\n",
       "      <td>11.411667</td>\n",
       "      <td>10.837778</td>\n",
       "      <td>133.194444</td>\n",
       "      <td>143.301587</td>\n",
       "    </tr>\n",
       "    <tr>\n",
       "      <th>2017-12-31</th>\n",
       "      <td>12.935176</td>\n",
       "      <td>10.959059</td>\n",
       "      <td>169.376471</td>\n",
       "      <td>145.277108</td>\n",
       "    </tr>\n",
       "    <tr>\n",
       "      <th>2018-12-31</th>\n",
       "      <td>13.339063</td>\n",
       "      <td>10.777969</td>\n",
       "      <td>191.218750</td>\n",
       "      <td>148.258065</td>\n",
       "    </tr>\n",
       "  </tbody>\n",
       "</table>\n",
       "</div>"
      ],
      "text/plain": [
       "            Distance (km)  Average Speed (km/h)   Climb (m)  \\\n",
       "Date                                                          \n",
       "2015-12-31      13.602805             10.998902  160.170732   \n",
       "2016-12-31      11.411667             10.837778  133.194444   \n",
       "2017-12-31      12.935176             10.959059  169.376471   \n",
       "2018-12-31      13.339063             10.777969  191.218750   \n",
       "\n",
       "            Average Heart Rate (bpm)  \n",
       "Date                                  \n",
       "2015-12-31                143.231884  \n",
       "2016-12-31                143.301587  \n",
       "2017-12-31                145.277108  \n",
       "2018-12-31                148.258065  "
      ]
     },
     "execution_count": 24,
     "metadata": {},
     "output_type": "execute_result"
    }
   ],
   "source": [
    "runs_subset_2015_2018.resample('A').mean()"
   ]
  },
  {
   "cell_type": "code",
   "execution_count": 25,
   "id": "340df329",
   "metadata": {},
   "outputs": [
    {
     "name": "stderr",
     "output_type": "stream",
     "text": [
      "C:\\Users\\hp\\AppData\\Local\\Temp\\ipykernel_14048\\1747358967.py:1: FutureWarning: The default value of numeric_only in DataFrameGroupBy.mean is deprecated. In a future version, numeric_only will default to False. Either specify numeric_only or select only columns which should be valid for the function.\n",
      "  runs_subset_2015_2018.resample('W').mean()\n"
     ]
    },
    {
     "data": {
      "text/html": [
       "<div>\n",
       "<style scoped>\n",
       "    .dataframe tbody tr th:only-of-type {\n",
       "        vertical-align: middle;\n",
       "    }\n",
       "\n",
       "    .dataframe tbody tr th {\n",
       "        vertical-align: top;\n",
       "    }\n",
       "\n",
       "    .dataframe thead th {\n",
       "        text-align: right;\n",
       "    }\n",
       "</style>\n",
       "<table border=\"1\" class=\"dataframe\">\n",
       "  <thead>\n",
       "    <tr style=\"text-align: right;\">\n",
       "      <th></th>\n",
       "      <th>Distance (km)</th>\n",
       "      <th>Average Speed (km/h)</th>\n",
       "      <th>Climb (m)</th>\n",
       "      <th>Average Heart Rate (bpm)</th>\n",
       "    </tr>\n",
       "    <tr>\n",
       "      <th>Date</th>\n",
       "      <th></th>\n",
       "      <th></th>\n",
       "      <th></th>\n",
       "      <th></th>\n",
       "    </tr>\n",
       "  </thead>\n",
       "  <tbody>\n",
       "    <tr>\n",
       "      <th>2015-01-04</th>\n",
       "      <td>9.780000</td>\n",
       "      <td>11.120000</td>\n",
       "      <td>51.0</td>\n",
       "      <td>NaN</td>\n",
       "    </tr>\n",
       "    <tr>\n",
       "      <th>2015-01-11</th>\n",
       "      <td>NaN</td>\n",
       "      <td>NaN</td>\n",
       "      <td>NaN</td>\n",
       "      <td>NaN</td>\n",
       "    </tr>\n",
       "    <tr>\n",
       "      <th>2015-01-18</th>\n",
       "      <td>9.780000</td>\n",
       "      <td>11.230000</td>\n",
       "      <td>51.0</td>\n",
       "      <td>NaN</td>\n",
       "    </tr>\n",
       "    <tr>\n",
       "      <th>2015-01-25</th>\n",
       "      <td>NaN</td>\n",
       "      <td>NaN</td>\n",
       "      <td>NaN</td>\n",
       "      <td>NaN</td>\n",
       "    </tr>\n",
       "    <tr>\n",
       "      <th>2015-02-01</th>\n",
       "      <td>9.893333</td>\n",
       "      <td>10.423333</td>\n",
       "      <td>58.0</td>\n",
       "      <td>NaN</td>\n",
       "    </tr>\n",
       "    <tr>\n",
       "      <th>...</th>\n",
       "      <td>...</td>\n",
       "      <td>...</td>\n",
       "      <td>...</td>\n",
       "      <td>...</td>\n",
       "    </tr>\n",
       "    <tr>\n",
       "      <th>2018-10-14</th>\n",
       "      <td>12.620000</td>\n",
       "      <td>10.840000</td>\n",
       "      <td>146.5</td>\n",
       "      <td>157.5</td>\n",
       "    </tr>\n",
       "    <tr>\n",
       "      <th>2018-10-21</th>\n",
       "      <td>10.290000</td>\n",
       "      <td>10.410000</td>\n",
       "      <td>133.0</td>\n",
       "      <td>155.0</td>\n",
       "    </tr>\n",
       "    <tr>\n",
       "      <th>2018-10-28</th>\n",
       "      <td>13.020000</td>\n",
       "      <td>10.730000</td>\n",
       "      <td>170.0</td>\n",
       "      <td>154.0</td>\n",
       "    </tr>\n",
       "    <tr>\n",
       "      <th>2018-11-04</th>\n",
       "      <td>12.995000</td>\n",
       "      <td>10.420000</td>\n",
       "      <td>170.0</td>\n",
       "      <td>156.5</td>\n",
       "    </tr>\n",
       "    <tr>\n",
       "      <th>2018-11-11</th>\n",
       "      <td>11.640000</td>\n",
       "      <td>10.535000</td>\n",
       "      <td>149.0</td>\n",
       "      <td>159.0</td>\n",
       "    </tr>\n",
       "  </tbody>\n",
       "</table>\n",
       "<p>202 rows × 4 columns</p>\n",
       "</div>"
      ],
      "text/plain": [
       "            Distance (km)  Average Speed (km/h)  Climb (m)  \\\n",
       "Date                                                         \n",
       "2015-01-04       9.780000             11.120000       51.0   \n",
       "2015-01-11            NaN                   NaN        NaN   \n",
       "2015-01-18       9.780000             11.230000       51.0   \n",
       "2015-01-25            NaN                   NaN        NaN   \n",
       "2015-02-01       9.893333             10.423333       58.0   \n",
       "...                   ...                   ...        ...   \n",
       "2018-10-14      12.620000             10.840000      146.5   \n",
       "2018-10-21      10.290000             10.410000      133.0   \n",
       "2018-10-28      13.020000             10.730000      170.0   \n",
       "2018-11-04      12.995000             10.420000      170.0   \n",
       "2018-11-11      11.640000             10.535000      149.0   \n",
       "\n",
       "            Average Heart Rate (bpm)  \n",
       "Date                                  \n",
       "2015-01-04                       NaN  \n",
       "2015-01-11                       NaN  \n",
       "2015-01-18                       NaN  \n",
       "2015-01-25                       NaN  \n",
       "2015-02-01                       NaN  \n",
       "...                              ...  \n",
       "2018-10-14                     157.5  \n",
       "2018-10-21                     155.0  \n",
       "2018-10-28                     154.0  \n",
       "2018-11-04                     156.5  \n",
       "2018-11-11                     159.0  \n",
       "\n",
       "[202 rows x 4 columns]"
      ]
     },
     "execution_count": 25,
     "metadata": {},
     "output_type": "execute_result"
    }
   ],
   "source": [
    "runs_subset_2015_2018.resample('W').mean()"
   ]
  },
  {
   "cell_type": "code",
   "execution_count": 26,
   "id": "71573ed6",
   "metadata": {},
   "outputs": [
    {
     "name": "stderr",
     "output_type": "stream",
     "text": [
      "C:\\Users\\hp\\AppData\\Local\\Temp\\ipykernel_14048\\1396761102.py:1: FutureWarning: The default value of numeric_only in DataFrameGroupBy.mean is deprecated. In a future version, numeric_only will default to False. Either specify numeric_only or select only columns which should be valid for the function.\n",
      "  runs_subset_2015_2018.resample('W').mean().mean()\n"
     ]
    },
    {
     "data": {
      "text/plain": [
       "Distance (km)                12.518176\n",
       "Average Speed (km/h)         10.835473\n",
       "Climb (m)                   158.325444\n",
       "Average Heart Rate (bpm)    144.925000\n",
       "dtype: float64"
      ]
     },
     "execution_count": 26,
     "metadata": {},
     "output_type": "execute_result"
    }
   ],
   "source": [
    "runs_subset_2015_2018.resample('W').mean().mean()"
   ]
  },
  {
   "cell_type": "code",
   "execution_count": 27,
   "id": "50ff9535",
   "metadata": {},
   "outputs": [
    {
     "data": {
      "text/plain": [
       "1.5"
      ]
     },
     "execution_count": 27,
     "metadata": {},
     "output_type": "execute_result"
    }
   ],
   "source": [
    "weekly_counts_average = runs_subset_2015_2018['Distance (km)'].resample('W').count().mean()\n",
    "weekly_counts_average"
   ]
  },
  {
   "cell_type": "markdown",
   "id": "de7b211a",
   "metadata": {},
   "source": [
    "## Task 6"
   ]
  },
  {
   "cell_type": "markdown",
   "id": "58387ed7",
   "metadata": {},
   "source": [
    "Prepare data and create a plot.\n",
    "- Select information for distance and then for heart rate from runs_subset_2015_2018 and assign to runs_distance and runs_hr, respectively.\n",
    "- Create two subplots with shared x-axis using the plt.subplots() method, setting the first positional parameter to 2, sharex to True, and figsize to (12,8). Assign the output to fig, (ax1, ax2) variables.\n",
    "- Plot distance on the first subplot, setting parameter ax to ax1.\n",
    "- On the second subplot (ax2), add a horizontal line with axhline() for the average value of heart rate counted as runs_hr.mean(). Set color to 'blue', linewidth to 1, and linestyle to '-.'."
   ]
  },
  {
   "cell_type": "code",
   "execution_count": 28,
   "id": "5a7ac703",
   "metadata": {},
   "outputs": [],
   "source": [
    "runs_distance = runs_subset_2015_2018['Distance (km)']\n",
    "runs_hr = runs_subset_2015_2018['Average Heart Rate (bpm)']"
   ]
  },
  {
   "cell_type": "code",
   "execution_count": 29,
   "id": "e13997c3",
   "metadata": {},
   "outputs": [
    {
     "data": {
      "image/png": "[encoded data removed]",
      "text/plain": [
       "<Figure size 1200x800 with 2 Axes>"
      ]
     },
     "metadata": {},
     "output_type": "display_data"
    }
   ],
   "source": [
    "fig, (ax1, ax2) = plt.subplots(2, sharex=True, figsize=(12,8));\n",
    "runs_distance.plot(ax=ax1);\n",
    "runs_hr.plot(ax=ax2);\n",
    "ax2.axhline(runs_hr.mean(), color='blue', linewidth=1, linestyle='-.');"
   ]
  },
  {
   "cell_type": "markdown",
   "id": "167c7e5f",
   "metadata": {},
   "source": [
    "## Task 7"
   ]
  },
  {
   "cell_type": "markdown",
   "id": "03ee8b0e",
   "metadata": {},
   "source": [
    "Prepare data and create a plot.\n",
    "- Subset df_run for data from 2013 through 2018 and select the Distance (km) column. Count annual totals with resample() and sum(). Assign the result to df_run_dist_annual.\n",
    "- Create a plot with plt.figure(), setting figsize to define a plot of size 8.0 inches x 5.0 inches.\n",
    "- Customize the plot with horizontal span from 0 to 800 km with ax.axhspan(). Set color to 'red' and alpha to 0.2.\n",
    "- Show the plot with plt.show()."
   ]
  },
  {
   "cell_type": "code",
   "execution_count": 30,
   "id": "b3ef8be3",
   "metadata": {},
   "outputs": [
    {
     "name": "stderr",
     "output_type": "stream",
     "text": [
      "C:\\Users\\hp\\AppData\\Local\\Temp\\ipykernel_14048\\435322828.py:1: FutureWarning: Value based partial slicing on non-monotonic DatetimeIndexes with non-existing keys is deprecated and will raise a KeyError in a future Version.\n",
      "  df_run_dist_annual = df_run['Distance (km)']['2013-01-01':'2018-12-30'].resample('A').sum()\n"
     ]
    }
   ],
   "source": [
    "df_run_dist_annual = df_run['Distance (km)']['2013-01-01':'2018-12-30'].resample('A').sum()"
   ]
  },
  {
   "cell_type": "code",
   "execution_count": 31,
   "id": "7c167728",
   "metadata": {},
   "outputs": [
    {
     "data": {
      "image/png": "[encoded data removed]",
      "text/plain": [
       "<Figure size 800x500 with 1 Axes>"
      ]
     },
     "metadata": {},
     "output_type": "display_data"
    }
   ],
   "source": [
    "fig = plt.figure(figsize=(8,5));\n",
    "ax = df_run_dist_annual.plot()\n",
    "ax.axhspan(0, 800, color='red', alpha=0.2);\n",
    "plt.show()"
   ]
  },
  {
   "cell_type": "markdown",
   "id": "9f0ab766",
   "metadata": {},
   "source": [
    "## Task 8"
   ]
  },
  {
   "cell_type": "markdown",
   "id": "3519d983",
   "metadata": {},
   "source": [
    "Create a plot with observed distance of runs and decomposed trend.\n",
    "- Import the statsmodels.api under the alias sm.\n",
    "- Subset df_run from 2013 through 2018, select Distance (km) column, resample weekly, and fill NaN values with the bfill() method. Assign to df_run_dist_wkly.\n",
    "- Create a plot with plt.figure(), defining plot size by setting figsize to (12,5)."
   ]
  },
  {
   "cell_type": "code",
   "execution_count": 32,
   "id": "a304f3fd",
   "metadata": {},
   "outputs": [
    {
     "name": "stderr",
     "output_type": "stream",
     "text": [
      "C:\\Users\\hp\\anaconda3\\lib\\site-packages\\statsmodels\\tsa\\base\\tsa_model.py:7: FutureWarning: pandas.Int64Index is deprecated and will be removed from pandas in a future version. Use pandas.Index with the appropriate dtype instead.\n",
      "  from pandas import (to_datetime, Int64Index, DatetimeIndex, Period,\n",
      "C:\\Users\\hp\\anaconda3\\lib\\site-packages\\statsmodels\\tsa\\base\\tsa_model.py:7: FutureWarning: pandas.Float64Index is deprecated and will be removed from pandas in a future version. Use pandas.Index with the appropriate dtype instead.\n",
      "  from pandas import (to_datetime, Int64Index, DatetimeIndex, Period,\n"
     ]
    }
   ],
   "source": [
    "import statsmodels.api as sm"
   ]
  },
  {
   "cell_type": "code",
   "execution_count": 33,
   "id": "3ffe2838",
   "metadata": {},
   "outputs": [
    {
     "name": "stderr",
     "output_type": "stream",
     "text": [
      "C:\\Users\\hp\\AppData\\Local\\Temp\\ipykernel_14048\\2638057767.py:1: FutureWarning: Value based partial slicing on non-monotonic DatetimeIndexes with non-existing keys is deprecated and will raise a KeyError in a future Version.\n",
      "  df_run_dist_wkly = df_run['Distance (km)']['2013-01-01':'2018-12-30'].resample('W').bfill()\n"
     ]
    }
   ],
   "source": [
    "df_run_dist_wkly = df_run['Distance (km)']['2013-01-01':'2018-12-30'].resample('W').bfill()"
   ]
  },
  {
   "cell_type": "code",
   "execution_count": 34,
   "id": "733f6d69",
   "metadata": {},
   "outputs": [
    {
     "data": {
      "text/plain": [
       "Date\n",
       "2013-01-06     3.09\n",
       "2013-01-13     6.72\n",
       "2013-01-20     8.65\n",
       "2013-01-27     3.07\n",
       "2013-02-03     3.07\n",
       "              ...  \n",
       "2018-10-14    12.93\n",
       "2018-10-21    13.02\n",
       "2018-10-28    12.98\n",
       "2018-11-04    13.01\n",
       "2018-11-11    10.44\n",
       "Freq: W-SUN, Name: Distance (km), Length: 306, dtype: float64"
      ]
     },
     "execution_count": 34,
     "metadata": {},
     "output_type": "execute_result"
    }
   ],
   "source": [
    "df_run_dist_wkly"
   ]
  },
  {
   "cell_type": "code",
   "execution_count": 35,
   "id": "ae8c4032",
   "metadata": {},
   "outputs": [],
   "source": [
    "decomposed = sm.tsa.seasonal_decompose(df_run_dist_wkly, extrapolate_trend=1, model='additive')"
   ]
  },
  {
   "cell_type": "code",
   "execution_count": 36,
   "id": "de1e265e",
   "metadata": {},
   "outputs": [
    {
     "data": {
      "text/plain": [
       "<matplotlib.legend.Legend at 0x1ab4cb385b0>"
      ]
     },
     "execution_count": 36,
     "metadata": {},
     "output_type": "execute_result"
    },
    {
     "data": {
      "image/png": "[encoded data removed]",
      "text/plain": [
       "<Figure size 1200x500 with 1 Axes>"
      ]
     },
     "metadata": {},
     "output_type": "display_data"
    }
   ],
   "source": [
    "fig = plt.figure(figsize=(12,5));\n",
    "ax = decomposed.trend.plot(color='red', label='Trend')\n",
    "ax = decomposed.observed.plot(label='Observed');\n",
    "ax.legend()"
   ]
  },
  {
   "cell_type": "markdown",
   "id": "fb8021a2",
   "metadata": {},
   "source": [
    "## Task 9"
   ]
  },
  {
   "cell_type": "markdown",
   "id": "d75fe8da",
   "metadata": {},
   "source": [
    "Create a customized histogram for heart rate distribution.\n",
    "- Subset df_run from March 2015 through 2018 then select the Average Heart Rate (bpm) column. Assign the result to df_run_hr_all.\n",
    "- Create a plot with plt.subplots(), setting figsize to (8,5). Assign the result to fig, ax.\n",
    "- Create customized x-axis ticks with ax.set_xticklabels(). Set the parameters labels to zone_names, rotation to -30, and ha to 'left'.\n",
    "- Show the plot with plt.show()."
   ]
  },
  {
   "cell_type": "code",
   "execution_count": 37,
   "id": "ee6b9432",
   "metadata": {},
   "outputs": [
    {
     "name": "stderr",
     "output_type": "stream",
     "text": [
      "C:\\Users\\hp\\AppData\\Local\\Temp\\ipykernel_14048\\2279910852.py:1: FutureWarning: Value based partial slicing on non-monotonic DatetimeIndexes with non-existing keys is deprecated and will raise a KeyError in a future Version.\n",
      "  df_run_hr_all = df_run['2015':'2018']['Average Heart Rate (bpm)']\n"
     ]
    }
   ],
   "source": [
    "df_run_hr_all = df_run['2015':'2018']['Average Heart Rate (bpm)']"
   ]
  },
  {
   "cell_type": "code",
   "execution_count": 38,
   "id": "e29e6d3d",
   "metadata": {},
   "outputs": [
    {
     "data": {
      "text/plain": [
       "Date\n",
       "2018-11-11 14:05:12    159.0\n",
       "2018-11-09 15:02:35    159.0\n",
       "2018-11-04 16:05:00    155.0\n",
       "2018-11-01 14:03:58    158.0\n",
       "2018-10-27 17:01:36    154.0\n",
       "                       ...  \n",
       "2015-01-28 18:43:29      NaN\n",
       "2015-01-26 18:30:18      NaN\n",
       "2015-01-14 17:50:00      NaN\n",
       "2015-01-12 18:20:00      NaN\n",
       "2015-01-03 17:20:00      NaN\n",
       "Name: Average Heart Rate (bpm), Length: 303, dtype: float64"
      ]
     },
     "execution_count": 38,
     "metadata": {},
     "output_type": "execute_result"
    }
   ],
   "source": [
    "df_run_hr_all"
   ]
  },
  {
   "cell_type": "code",
   "execution_count": 39,
   "id": "f146d2f8",
   "metadata": {},
   "outputs": [
    {
     "data": {
      "text/plain": [
       "172.0"
      ]
     },
     "execution_count": 39,
     "metadata": {},
     "output_type": "execute_result"
    }
   ],
   "source": [
    "df_run['Average Heart Rate (bpm)'].max()"
   ]
  },
  {
   "cell_type": "markdown",
   "id": "ed2070fe",
   "metadata": {},
   "source": [
    "zones: 50-70% moderate\n",
    "\n",
    "       70-85% vigorous\n",
    "       \n",
    "       85-100% high\n",
    "       \n",
    "Maximum heart rate from the data: 172\n",
    "\n",
    "moderate zone: 86-120.39\n",
    "\n",
    "vigorous zone: 120.39-146.2\n",
    "\n",
    "high zone: 146.2-172\n"
   ]
  },
  {
   "cell_type": "code",
   "execution_count": 40,
   "id": "d5cfadbb",
   "metadata": {},
   "outputs": [],
   "source": [
    "zones=[86, 120.39, 146.2, 172]\n",
    "zone_names=['moderate', 'vigorous', 'high']"
   ]
  },
  {
   "cell_type": "code",
   "execution_count": 41,
   "id": "6c25ab3a",
   "metadata": {},
   "outputs": [
    {
     "name": "stderr",
     "output_type": "stream",
     "text": [
      "C:\\Users\\hp\\AppData\\Local\\Temp\\ipykernel_14048\\1306093721.py:2: UserWarning: FixedFormatter should only be used together with FixedLocator\n",
      "  ax.set_xticklabels(labels=zone_names,rotation=-30,ha='left')\n"
     ]
    },
    {
     "data": {
      "image/png": "[encoded data removed]",
      "text/plain": [
       "<Figure size 800x500 with 1 Axes>"
      ]
     },
     "metadata": {},
     "output_type": "display_data"
    }
   ],
   "source": [
    "fig, ax = plt.subplots(figsize=(8,5))\n",
    "ax.set_xticklabels(labels=zone_names,rotation=-30,ha='left')\n",
    "ax.hist(df_run_hr_all, bins=zones)\n",
    "ax.xaxis.set(ticks=zones)\n",
    "plt.show();"
   ]
  },
  {
   "cell_type": "markdown",
   "id": "e92e70fd",
   "metadata": {},
   "source": [
    "## Task 10"
   ]
  },
  {
   "cell_type": "markdown",
   "id": "98bdede1",
   "metadata": {},
   "source": [
    "Create a summary report.\n",
    "- Concatenate the df_run DataFrame with df_walk and df_cycle using append(), then sort based on the index in descending order. Assign the result to df_run_walk_cycle.\n",
    "- Group df_run_walk_cycle by activity type, then select the columns in dist_climb_cols. Sum the result using sum(). Assign the result to df_totals.\n",
    "- Use the stack() method on df_summary to show a compact reshaped form of the full summary report."
   ]
  },
  {
   "cell_type": "code",
   "execution_count": 42,
   "id": "b771b407",
   "metadata": {},
   "outputs": [
    {
     "data": {
      "text/html": [
       "<div>\n",
       "<style scoped>\n",
       "    .dataframe tbody tr th:only-of-type {\n",
       "        vertical-align: middle;\n",
       "    }\n",
       "\n",
       "    .dataframe tbody tr th {\n",
       "        vertical-align: top;\n",
       "    }\n",
       "\n",
       "    .dataframe thead th {\n",
       "        text-align: right;\n",
       "    }\n",
       "</style>\n",
       "<table border=\"1\" class=\"dataframe\">\n",
       "  <thead>\n",
       "    <tr style=\"text-align: right;\">\n",
       "      <th></th>\n",
       "      <th>Activity Id</th>\n",
       "      <th>Type</th>\n",
       "      <th>Distance (km)</th>\n",
       "      <th>Duration</th>\n",
       "      <th>Average Pace</th>\n",
       "      <th>Average Speed (km/h)</th>\n",
       "      <th>Climb (m)</th>\n",
       "      <th>Average Heart Rate (bpm)</th>\n",
       "    </tr>\n",
       "    <tr>\n",
       "      <th>Date</th>\n",
       "      <th></th>\n",
       "      <th></th>\n",
       "      <th></th>\n",
       "      <th></th>\n",
       "      <th></th>\n",
       "      <th></th>\n",
       "      <th></th>\n",
       "      <th></th>\n",
       "    </tr>\n",
       "  </thead>\n",
       "  <tbody>\n",
       "    <tr>\n",
       "      <th>2013-08-15 18:49:50</th>\n",
       "      <td>666cbe78-b3d5-4bbb-8a22-2717507d32c2</td>\n",
       "      <td>Walking</td>\n",
       "      <td>2.48</td>\n",
       "      <td>2:23:46</td>\n",
       "      <td>57:56</td>\n",
       "      <td>1.04</td>\n",
       "      <td>67</td>\n",
       "      <td>NaN</td>\n",
       "    </tr>\n",
       "    <tr>\n",
       "      <th>2013-08-08 07:56:08</th>\n",
       "      <td>9ea3ec6e-48fa-417f-8bdf-2b197e19f5d4</td>\n",
       "      <td>Walking</td>\n",
       "      <td>1.51</td>\n",
       "      <td>15:24</td>\n",
       "      <td>10:11</td>\n",
       "      <td>5.89</td>\n",
       "      <td>6</td>\n",
       "      <td>NaN</td>\n",
       "    </tr>\n",
       "    <tr>\n",
       "      <th>2013-06-03 07:04:59</th>\n",
       "      <td>d091607e-10a2-467a-93d6-f2c54d47a0d9</td>\n",
       "      <td>Walking</td>\n",
       "      <td>1.33</td>\n",
       "      <td>11:59</td>\n",
       "      <td>9:03</td>\n",
       "      <td>6.63</td>\n",
       "      <td>5</td>\n",
       "      <td>NaN</td>\n",
       "    </tr>\n",
       "    <tr>\n",
       "      <th>2013-04-29 18:48:30</th>\n",
       "      <td>f157d4ff-bbf3-47e9-b07c-58f692ef9e6f</td>\n",
       "      <td>Walking</td>\n",
       "      <td>1.37</td>\n",
       "      <td>22:39</td>\n",
       "      <td>16:30</td>\n",
       "      <td>3.64</td>\n",
       "      <td>10</td>\n",
       "      <td>NaN</td>\n",
       "    </tr>\n",
       "    <tr>\n",
       "      <th>2013-04-29 13:10:14</th>\n",
       "      <td>313fbef4-deeb-4da5-b1b2-ecee74cba0f6</td>\n",
       "      <td>Walking</td>\n",
       "      <td>3.83</td>\n",
       "      <td>38:30</td>\n",
       "      <td>10:04</td>\n",
       "      <td>5.96</td>\n",
       "      <td>25</td>\n",
       "      <td>NaN</td>\n",
       "    </tr>\n",
       "  </tbody>\n",
       "</table>\n",
       "</div>"
      ],
      "text/plain": [
       "                                              Activity Id     Type  \\\n",
       "Date                                                                 \n",
       "2013-08-15 18:49:50  666cbe78-b3d5-4bbb-8a22-2717507d32c2  Walking   \n",
       "2013-08-08 07:56:08  9ea3ec6e-48fa-417f-8bdf-2b197e19f5d4  Walking   \n",
       "2013-06-03 07:04:59  d091607e-10a2-467a-93d6-f2c54d47a0d9  Walking   \n",
       "2013-04-29 18:48:30  f157d4ff-bbf3-47e9-b07c-58f692ef9e6f  Walking   \n",
       "2013-04-29 13:10:14  313fbef4-deeb-4da5-b1b2-ecee74cba0f6  Walking   \n",
       "\n",
       "                     Distance (km) Duration Average Pace  \\\n",
       "Date                                                       \n",
       "2013-08-15 18:49:50           2.48  2:23:46        57:56   \n",
       "2013-08-08 07:56:08           1.51    15:24        10:11   \n",
       "2013-06-03 07:04:59           1.33    11:59         9:03   \n",
       "2013-04-29 18:48:30           1.37    22:39        16:30   \n",
       "2013-04-29 13:10:14           3.83    38:30        10:04   \n",
       "\n",
       "                     Average Speed (km/h)  Climb (m)  Average Heart Rate (bpm)  \n",
       "Date                                                                            \n",
       "2013-08-15 18:49:50                  1.04         67                       NaN  \n",
       "2013-08-08 07:56:08                  5.89          6                       NaN  \n",
       "2013-06-03 07:04:59                  6.63          5                       NaN  \n",
       "2013-04-29 18:48:30                  3.64         10                       NaN  \n",
       "2013-04-29 13:10:14                  5.96         25                       NaN  "
      ]
     },
     "execution_count": 42,
     "metadata": {},
     "output_type": "execute_result"
    }
   ],
   "source": [
    "df_walk = df_activities[df_activities['Type']=='Walking'].copy()\n",
    "df_walk.head()"
   ]
  },
  {
   "cell_type": "code",
   "execution_count": 43,
   "id": "125a652d",
   "metadata": {},
   "outputs": [
    {
     "name": "stderr",
     "output_type": "stream",
     "text": [
      "C:\\Users\\hp\\AppData\\Local\\Temp\\ipykernel_14048\\40725120.py:1: FutureWarning: The frame.append method is deprecated and will be removed from pandas in a future version. Use pandas.concat instead.\n",
      "  df_run_walk_cycle = df_run.append([df_cycle, df_walk]).sort_index(ascending=False)\n"
     ]
    },
    {
     "data": {
      "text/html": [
       "<div>\n",
       "<style scoped>\n",
       "    .dataframe tbody tr th:only-of-type {\n",
       "        vertical-align: middle;\n",
       "    }\n",
       "\n",
       "    .dataframe tbody tr th {\n",
       "        vertical-align: top;\n",
       "    }\n",
       "\n",
       "    .dataframe thead th {\n",
       "        text-align: right;\n",
       "    }\n",
       "</style>\n",
       "<table border=\"1\" class=\"dataframe\">\n",
       "  <thead>\n",
       "    <tr style=\"text-align: right;\">\n",
       "      <th></th>\n",
       "      <th>Activity Id</th>\n",
       "      <th>Type</th>\n",
       "      <th>Distance (km)</th>\n",
       "      <th>Duration</th>\n",
       "      <th>Average Pace</th>\n",
       "      <th>Average Speed (km/h)</th>\n",
       "      <th>Climb (m)</th>\n",
       "      <th>Average Heart Rate (bpm)</th>\n",
       "    </tr>\n",
       "    <tr>\n",
       "      <th>Date</th>\n",
       "      <th></th>\n",
       "      <th></th>\n",
       "      <th></th>\n",
       "      <th></th>\n",
       "      <th></th>\n",
       "      <th></th>\n",
       "      <th></th>\n",
       "      <th></th>\n",
       "    </tr>\n",
       "  </thead>\n",
       "  <tbody>\n",
       "    <tr>\n",
       "      <th>2018-11-11 14:05:12</th>\n",
       "      <td>c9627fed-14ac-47a2-bed3-2a2630c63c15</td>\n",
       "      <td>Running</td>\n",
       "      <td>10.44</td>\n",
       "      <td>58:40</td>\n",
       "      <td>5:37</td>\n",
       "      <td>10.68</td>\n",
       "      <td>130</td>\n",
       "      <td>159.0</td>\n",
       "    </tr>\n",
       "    <tr>\n",
       "      <th>2018-11-09 15:02:35</th>\n",
       "      <td>be65818d-a801-4847-a43b-2acdf4dc70e7</td>\n",
       "      <td>Running</td>\n",
       "      <td>12.84</td>\n",
       "      <td>1:14:12</td>\n",
       "      <td>5:47</td>\n",
       "      <td>10.39</td>\n",
       "      <td>168</td>\n",
       "      <td>159.0</td>\n",
       "    </tr>\n",
       "    <tr>\n",
       "      <th>2018-11-04 16:05:00</th>\n",
       "      <td>c09b2f92-f855-497c-b624-c196b3ef036c</td>\n",
       "      <td>Running</td>\n",
       "      <td>13.01</td>\n",
       "      <td>1:15:16</td>\n",
       "      <td>5:47</td>\n",
       "      <td>10.37</td>\n",
       "      <td>171</td>\n",
       "      <td>155.0</td>\n",
       "    </tr>\n",
       "    <tr>\n",
       "      <th>2018-11-01 14:03:58</th>\n",
       "      <td>bc9b612d-3499-43ff-b82a-9b17b71b8a36</td>\n",
       "      <td>Running</td>\n",
       "      <td>12.98</td>\n",
       "      <td>1:14:25</td>\n",
       "      <td>5:44</td>\n",
       "      <td>10.47</td>\n",
       "      <td>169</td>\n",
       "      <td>158.0</td>\n",
       "    </tr>\n",
       "    <tr>\n",
       "      <th>2018-10-27 17:01:36</th>\n",
       "      <td>972567b2-1b0e-437c-9e82-fef8078d6438</td>\n",
       "      <td>Running</td>\n",
       "      <td>13.02</td>\n",
       "      <td>1:12:50</td>\n",
       "      <td>5:36</td>\n",
       "      <td>10.73</td>\n",
       "      <td>170</td>\n",
       "      <td>154.0</td>\n",
       "    </tr>\n",
       "    <tr>\n",
       "      <th>...</th>\n",
       "      <td>...</td>\n",
       "      <td>...</td>\n",
       "      <td>...</td>\n",
       "      <td>...</td>\n",
       "      <td>...</td>\n",
       "      <td>...</td>\n",
       "      <td>...</td>\n",
       "      <td>...</td>\n",
       "    </tr>\n",
       "    <tr>\n",
       "      <th>2012-08-28 07:06:57</th>\n",
       "      <td>f5218490-a372-44c8-bb20-de3b91984cbe</td>\n",
       "      <td>Walking</td>\n",
       "      <td>1.57</td>\n",
       "      <td>13:39</td>\n",
       "      <td>8:41</td>\n",
       "      <td>6.91</td>\n",
       "      <td>7</td>\n",
       "      <td>NaN</td>\n",
       "    </tr>\n",
       "    <tr>\n",
       "      <th>2012-08-24 12:59:42</th>\n",
       "      <td>018f66a7-da5e-4985-a8fe-725a33317c87</td>\n",
       "      <td>Walking</td>\n",
       "      <td>1.48</td>\n",
       "      <td>17:56</td>\n",
       "      <td>12:09</td>\n",
       "      <td>4.94</td>\n",
       "      <td>12</td>\n",
       "      <td>NaN</td>\n",
       "    </tr>\n",
       "    <tr>\n",
       "      <th>2012-08-24 10:12:16</th>\n",
       "      <td>7acec95a-d63d-435d-837c-7befb352f500</td>\n",
       "      <td>Walking</td>\n",
       "      <td>1.49</td>\n",
       "      <td>13:43</td>\n",
       "      <td>9:14</td>\n",
       "      <td>6.49</td>\n",
       "      <td>9</td>\n",
       "      <td>NaN</td>\n",
       "    </tr>\n",
       "    <tr>\n",
       "      <th>2012-08-24 08:13:12</th>\n",
       "      <td>f790bdb2-b921-4018-bd39-d59d870c5847</td>\n",
       "      <td>Running</td>\n",
       "      <td>3.15</td>\n",
       "      <td>16:00</td>\n",
       "      <td>5:05</td>\n",
       "      <td>11.82</td>\n",
       "      <td>17</td>\n",
       "      <td>NaN</td>\n",
       "    </tr>\n",
       "    <tr>\n",
       "      <th>2012-08-22 18:53:54</th>\n",
       "      <td>706d4d6b-767d-40aa-81c9-e5e85a102051</td>\n",
       "      <td>Running</td>\n",
       "      <td>5.69</td>\n",
       "      <td>31:08</td>\n",
       "      <td>5:29</td>\n",
       "      <td>10.95</td>\n",
       "      <td>32</td>\n",
       "      <td>NaN</td>\n",
       "    </tr>\n",
       "  </tbody>\n",
       "</table>\n",
       "<p>506 rows × 8 columns</p>\n",
       "</div>"
      ],
      "text/plain": [
       "                                              Activity Id     Type  \\\n",
       "Date                                                                 \n",
       "2018-11-11 14:05:12  c9627fed-14ac-47a2-bed3-2a2630c63c15  Running   \n",
       "2018-11-09 15:02:35  be65818d-a801-4847-a43b-2acdf4dc70e7  Running   \n",
       "2018-11-04 16:05:00  c09b2f92-f855-497c-b624-c196b3ef036c  Running   \n",
       "2018-11-01 14:03:58  bc9b612d-3499-43ff-b82a-9b17b71b8a36  Running   \n",
       "2018-10-27 17:01:36  972567b2-1b0e-437c-9e82-fef8078d6438  Running   \n",
       "...                                                   ...      ...   \n",
       "2012-08-28 07:06:57  f5218490-a372-44c8-bb20-de3b91984cbe  Walking   \n",
       "2012-08-24 12:59:42  018f66a7-da5e-4985-a8fe-725a33317c87  Walking   \n",
       "2012-08-24 10:12:16  7acec95a-d63d-435d-837c-7befb352f500  Walking   \n",
       "2012-08-24 08:13:12  f790bdb2-b921-4018-bd39-d59d870c5847  Running   \n",
       "2012-08-22 18:53:54  706d4d6b-767d-40aa-81c9-e5e85a102051  Running   \n",
       "\n",
       "                     Distance (km) Duration Average Pace  \\\n",
       "Date                                                       \n",
       "2018-11-11 14:05:12          10.44    58:40         5:37   \n",
       "2018-11-09 15:02:35          12.84  1:14:12         5:47   \n",
       "2018-11-04 16:05:00          13.01  1:15:16         5:47   \n",
       "2018-11-01 14:03:58          12.98  1:14:25         5:44   \n",
       "2018-10-27 17:01:36          13.02  1:12:50         5:36   \n",
       "...                            ...      ...          ...   \n",
       "2012-08-28 07:06:57           1.57    13:39         8:41   \n",
       "2012-08-24 12:59:42           1.48    17:56        12:09   \n",
       "2012-08-24 10:12:16           1.49    13:43         9:14   \n",
       "2012-08-24 08:13:12           3.15    16:00         5:05   \n",
       "2012-08-22 18:53:54           5.69    31:08         5:29   \n",
       "\n",
       "                     Average Speed (km/h)  Climb (m)  Average Heart Rate (bpm)  \n",
       "Date                                                                            \n",
       "2018-11-11 14:05:12                 10.68        130                     159.0  \n",
       "2018-11-09 15:02:35                 10.39        168                     159.0  \n",
       "2018-11-04 16:05:00                 10.37        171                     155.0  \n",
       "2018-11-01 14:03:58                 10.47        169                     158.0  \n",
       "2018-10-27 17:01:36                 10.73        170                     154.0  \n",
       "...                                   ...        ...                       ...  \n",
       "2012-08-28 07:06:57                  6.91          7                       NaN  \n",
       "2012-08-24 12:59:42                  4.94         12                       NaN  \n",
       "2012-08-24 10:12:16                  6.49          9                       NaN  \n",
       "2012-08-24 08:13:12                 11.82         17                       NaN  \n",
       "2012-08-22 18:53:54                 10.95         32                       NaN  \n",
       "\n",
       "[506 rows x 8 columns]"
      ]
     },
     "execution_count": 43,
     "metadata": {},
     "output_type": "execute_result"
    }
   ],
   "source": [
    "df_run_walk_cycle = df_run.append([df_cycle, df_walk]).sort_index(ascending=False)\n",
    "df_run_walk_cycle"
   ]
  },
  {
   "cell_type": "code",
   "execution_count": 44,
   "id": "e059466d",
   "metadata": {},
   "outputs": [
    {
     "name": "stderr",
     "output_type": "stream",
     "text": [
      "C:\\Users\\hp\\AppData\\Local\\Temp\\ipykernel_14048\\2069721659.py:1: FutureWarning: Indexing with multiple keys (implicitly converted to a tuple of keys) will be deprecated, use a list instead.\n",
      "  df_totals = df_run_walk_cycle.groupby('Type')['Distance (km)', 'Climb (m)'].sum()\n"
     ]
    },
    {
     "data": {
      "text/html": [
       "<div>\n",
       "<style scoped>\n",
       "    .dataframe tbody tr th:only-of-type {\n",
       "        vertical-align: middle;\n",
       "    }\n",
       "\n",
       "    .dataframe tbody tr th {\n",
       "        vertical-align: top;\n",
       "    }\n",
       "\n",
       "    .dataframe thead th {\n",
       "        text-align: right;\n",
       "    }\n",
       "</style>\n",
       "<table border=\"1\" class=\"dataframe\">\n",
       "  <thead>\n",
       "    <tr style=\"text-align: right;\">\n",
       "      <th></th>\n",
       "      <th>Distance (km)</th>\n",
       "      <th>Climb (m)</th>\n",
       "    </tr>\n",
       "    <tr>\n",
       "      <th>Type</th>\n",
       "      <th></th>\n",
       "      <th></th>\n",
       "    </tr>\n",
       "  </thead>\n",
       "  <tbody>\n",
       "    <tr>\n",
       "      <th>Cycling</th>\n",
       "      <td>680.58</td>\n",
       "      <td>6976</td>\n",
       "    </tr>\n",
       "    <tr>\n",
       "      <th>Running</th>\n",
       "      <td>5224.50</td>\n",
       "      <td>57278</td>\n",
       "    </tr>\n",
       "    <tr>\n",
       "      <th>Walking</th>\n",
       "      <td>33.45</td>\n",
       "      <td>349</td>\n",
       "    </tr>\n",
       "  </tbody>\n",
       "</table>\n",
       "</div>"
      ],
      "text/plain": [
       "         Distance (km)  Climb (m)\n",
       "Type                             \n",
       "Cycling         680.58       6976\n",
       "Running        5224.50      57278\n",
       "Walking          33.45        349"
      ]
     },
     "execution_count": 44,
     "metadata": {},
     "output_type": "execute_result"
    }
   ],
   "source": [
    "df_totals = df_run_walk_cycle.groupby('Type')['Distance (km)', 'Climb (m)'].sum()\n",
    "df_totals"
   ]
  },
  {
   "cell_type": "code",
   "execution_count": 45,
   "id": "502a2c6b",
   "metadata": {},
   "outputs": [
    {
     "name": "stderr",
     "output_type": "stream",
     "text": [
      "C:\\Users\\hp\\AppData\\Local\\Temp\\ipykernel_14048\\3569484449.py:1: FutureWarning: Indexing with multiple keys (implicitly converted to a tuple of keys) will be deprecated, use a list instead.\n",
      "  df_summary = df_run_walk_cycle.groupby('Type')['Distance (km)', 'Climb (m)', 'Average Speed (km/h)'].describe()\n"
     ]
    }
   ],
   "source": [
    "df_summary = df_run_walk_cycle.groupby('Type')['Distance (km)', 'Climb (m)', 'Average Speed (km/h)'].describe()"
   ]
  },
  {
   "cell_type": "code",
   "execution_count": 46,
   "id": "e314d3c2",
   "metadata": {},
   "outputs": [
    {
     "data": {
      "text/html": [
       "<div>\n",
       "<style scoped>\n",
       "    .dataframe tbody tr th:only-of-type {\n",
       "        vertical-align: middle;\n",
       "    }\n",
       "\n",
       "    .dataframe tbody tr th {\n",
       "        vertical-align: top;\n",
       "    }\n",
       "\n",
       "    .dataframe thead tr th {\n",
       "        text-align: left;\n",
       "    }\n",
       "\n",
       "    .dataframe thead tr:last-of-type th {\n",
       "        text-align: right;\n",
       "    }\n",
       "</style>\n",
       "<table border=\"1\" class=\"dataframe\">\n",
       "  <thead>\n",
       "    <tr>\n",
       "      <th></th>\n",
       "      <th colspan=\"8\" halign=\"left\">Distance (km)</th>\n",
       "      <th colspan=\"5\" halign=\"left\">Climb (m)</th>\n",
       "      <th colspan=\"8\" halign=\"left\">Average Speed (km/h)</th>\n",
       "    </tr>\n",
       "    <tr>\n",
       "      <th></th>\n",
       "      <th>count</th>\n",
       "      <th>mean</th>\n",
       "      <th>std</th>\n",
       "      <th>min</th>\n",
       "      <th>25%</th>\n",
       "      <th>50%</th>\n",
       "      <th>75%</th>\n",
       "      <th>max</th>\n",
       "      <th>count</th>\n",
       "      <th>mean</th>\n",
       "      <th>...</th>\n",
       "      <th>75%</th>\n",
       "      <th>max</th>\n",
       "      <th>count</th>\n",
       "      <th>mean</th>\n",
       "      <th>std</th>\n",
       "      <th>min</th>\n",
       "      <th>25%</th>\n",
       "      <th>50%</th>\n",
       "      <th>75%</th>\n",
       "      <th>max</th>\n",
       "    </tr>\n",
       "    <tr>\n",
       "      <th>Type</th>\n",
       "      <th></th>\n",
       "      <th></th>\n",
       "      <th></th>\n",
       "      <th></th>\n",
       "      <th></th>\n",
       "      <th></th>\n",
       "      <th></th>\n",
       "      <th></th>\n",
       "      <th></th>\n",
       "      <th></th>\n",
       "      <th></th>\n",
       "      <th></th>\n",
       "      <th></th>\n",
       "      <th></th>\n",
       "      <th></th>\n",
       "      <th></th>\n",
       "      <th></th>\n",
       "      <th></th>\n",
       "      <th></th>\n",
       "      <th></th>\n",
       "      <th></th>\n",
       "    </tr>\n",
       "  </thead>\n",
       "  <tbody>\n",
       "    <tr>\n",
       "      <th>Cycling</th>\n",
       "      <td>29.0</td>\n",
       "      <td>23.468276</td>\n",
       "      <td>9.451040</td>\n",
       "      <td>11.41</td>\n",
       "      <td>15.530</td>\n",
       "      <td>20.300</td>\n",
       "      <td>29.4000</td>\n",
       "      <td>49.18</td>\n",
       "      <td>29.0</td>\n",
       "      <td>240.551724</td>\n",
       "      <td>...</td>\n",
       "      <td>318.0</td>\n",
       "      <td>553.0</td>\n",
       "      <td>29.0</td>\n",
       "      <td>19.125172</td>\n",
       "      <td>3.257100</td>\n",
       "      <td>11.38</td>\n",
       "      <td>16.980</td>\n",
       "      <td>19.50</td>\n",
       "      <td>21.4900</td>\n",
       "      <td>24.33</td>\n",
       "    </tr>\n",
       "    <tr>\n",
       "      <th>Running</th>\n",
       "      <td>459.0</td>\n",
       "      <td>11.382353</td>\n",
       "      <td>4.937853</td>\n",
       "      <td>0.76</td>\n",
       "      <td>7.415</td>\n",
       "      <td>10.810</td>\n",
       "      <td>13.1900</td>\n",
       "      <td>38.32</td>\n",
       "      <td>459.0</td>\n",
       "      <td>124.788671</td>\n",
       "      <td>...</td>\n",
       "      <td>171.0</td>\n",
       "      <td>982.0</td>\n",
       "      <td>459.0</td>\n",
       "      <td>11.056296</td>\n",
       "      <td>0.953273</td>\n",
       "      <td>5.77</td>\n",
       "      <td>10.495</td>\n",
       "      <td>10.98</td>\n",
       "      <td>11.5200</td>\n",
       "      <td>20.72</td>\n",
       "    </tr>\n",
       "    <tr>\n",
       "      <th>Walking</th>\n",
       "      <td>18.0</td>\n",
       "      <td>1.858333</td>\n",
       "      <td>0.880055</td>\n",
       "      <td>1.22</td>\n",
       "      <td>1.385</td>\n",
       "      <td>1.485</td>\n",
       "      <td>1.7875</td>\n",
       "      <td>4.29</td>\n",
       "      <td>18.0</td>\n",
       "      <td>19.388889</td>\n",
       "      <td>...</td>\n",
       "      <td>15.5</td>\n",
       "      <td>112.0</td>\n",
       "      <td>18.0</td>\n",
       "      <td>5.549444</td>\n",
       "      <td>1.459309</td>\n",
       "      <td>1.04</td>\n",
       "      <td>5.555</td>\n",
       "      <td>5.97</td>\n",
       "      <td>6.5125</td>\n",
       "      <td>6.91</td>\n",
       "    </tr>\n",
       "  </tbody>\n",
       "</table>\n",
       "<p>3 rows × 24 columns</p>\n",
       "</div>"
      ],
      "text/plain": [
       "        Distance (km)                                                       \\\n",
       "                count       mean       std    min     25%     50%      75%   \n",
       "Type                                                                         \n",
       "Cycling          29.0  23.468276  9.451040  11.41  15.530  20.300  29.4000   \n",
       "Running         459.0  11.382353  4.937853   0.76   7.415  10.810  13.1900   \n",
       "Walking          18.0   1.858333  0.880055   1.22   1.385   1.485   1.7875   \n",
       "\n",
       "               Climb (m)              ...               Average Speed (km/h)  \\\n",
       "           max     count        mean  ...    75%    max                count   \n",
       "Type                                  ...                                      \n",
       "Cycling  49.18      29.0  240.551724  ...  318.0  553.0                 29.0   \n",
       "Running  38.32     459.0  124.788671  ...  171.0  982.0                459.0   \n",
       "Walking   4.29      18.0   19.388889  ...   15.5  112.0                 18.0   \n",
       "\n",
       "                                                                    \n",
       "              mean       std    min     25%    50%      75%    max  \n",
       "Type                                                                \n",
       "Cycling  19.125172  3.257100  11.38  16.980  19.50  21.4900  24.33  \n",
       "Running  11.056296  0.953273   5.77  10.495  10.98  11.5200  20.72  \n",
       "Walking   5.549444  1.459309   1.04   5.555   5.97   6.5125   6.91  \n",
       "\n",
       "[3 rows x 24 columns]"
      ]
     },
     "execution_count": 46,
     "metadata": {},
     "output_type": "execute_result"
    }
   ],
   "source": [
    "df_summary"
   ]
  },
  {
   "cell_type": "code",
   "execution_count": 47,
   "id": "f8137f9b",
   "metadata": {},
   "outputs": [
    {
     "data": {
      "text/html": [
       "<div>\n",
       "<style scoped>\n",
       "    .dataframe tbody tr th:only-of-type {\n",
       "        vertical-align: middle;\n",
       "    }\n",
       "\n",
       "    .dataframe tbody tr th {\n",
       "        vertical-align: top;\n",
       "    }\n",
       "\n",
       "    .dataframe thead th {\n",
       "        text-align: right;\n",
       "    }\n",
       "</style>\n",
       "<table border=\"1\" class=\"dataframe\">\n",
       "  <thead>\n",
       "    <tr style=\"text-align: right;\">\n",
       "      <th></th>\n",
       "      <th></th>\n",
       "      <th>Distance (km)</th>\n",
       "      <th>Climb (m)</th>\n",
       "      <th>Average Speed (km/h)</th>\n",
       "    </tr>\n",
       "    <tr>\n",
       "      <th>Type</th>\n",
       "      <th></th>\n",
       "      <th></th>\n",
       "      <th></th>\n",
       "      <th></th>\n",
       "    </tr>\n",
       "  </thead>\n",
       "  <tbody>\n",
       "    <tr>\n",
       "      <th rowspan=\"8\" valign=\"top\">Cycling</th>\n",
       "      <th>count</th>\n",
       "      <td>29.000000</td>\n",
       "      <td>29.000000</td>\n",
       "      <td>29.000000</td>\n",
       "    </tr>\n",
       "    <tr>\n",
       "      <th>mean</th>\n",
       "      <td>23.468276</td>\n",
       "      <td>240.551724</td>\n",
       "      <td>19.125172</td>\n",
       "    </tr>\n",
       "    <tr>\n",
       "      <th>std</th>\n",
       "      <td>9.451040</td>\n",
       "      <td>128.960289</td>\n",
       "      <td>3.257100</td>\n",
       "    </tr>\n",
       "    <tr>\n",
       "      <th>min</th>\n",
       "      <td>11.410000</td>\n",
       "      <td>58.000000</td>\n",
       "      <td>11.380000</td>\n",
       "    </tr>\n",
       "    <tr>\n",
       "      <th>25%</th>\n",
       "      <td>15.530000</td>\n",
       "      <td>139.000000</td>\n",
       "      <td>16.980000</td>\n",
       "    </tr>\n",
       "    <tr>\n",
       "      <th>50%</th>\n",
       "      <td>20.300000</td>\n",
       "      <td>199.000000</td>\n",
       "      <td>19.500000</td>\n",
       "    </tr>\n",
       "    <tr>\n",
       "      <th>75%</th>\n",
       "      <td>29.400000</td>\n",
       "      <td>318.000000</td>\n",
       "      <td>21.490000</td>\n",
       "    </tr>\n",
       "    <tr>\n",
       "      <th>max</th>\n",
       "      <td>49.180000</td>\n",
       "      <td>553.000000</td>\n",
       "      <td>24.330000</td>\n",
       "    </tr>\n",
       "    <tr>\n",
       "      <th rowspan=\"8\" valign=\"top\">Running</th>\n",
       "      <th>count</th>\n",
       "      <td>459.000000</td>\n",
       "      <td>459.000000</td>\n",
       "      <td>459.000000</td>\n",
       "    </tr>\n",
       "    <tr>\n",
       "      <th>mean</th>\n",
       "      <td>11.382353</td>\n",
       "      <td>124.788671</td>\n",
       "      <td>11.056296</td>\n",
       "    </tr>\n",
       "    <tr>\n",
       "      <th>std</th>\n",
       "      <td>4.937853</td>\n",
       "      <td>103.382177</td>\n",
       "      <td>0.953273</td>\n",
       "    </tr>\n",
       "    <tr>\n",
       "      <th>min</th>\n",
       "      <td>0.760000</td>\n",
       "      <td>0.000000</td>\n",
       "      <td>5.770000</td>\n",
       "    </tr>\n",
       "    <tr>\n",
       "      <th>25%</th>\n",
       "      <td>7.415000</td>\n",
       "      <td>54.000000</td>\n",
       "      <td>10.495000</td>\n",
       "    </tr>\n",
       "    <tr>\n",
       "      <th>50%</th>\n",
       "      <td>10.810000</td>\n",
       "      <td>91.000000</td>\n",
       "      <td>10.980000</td>\n",
       "    </tr>\n",
       "    <tr>\n",
       "      <th>75%</th>\n",
       "      <td>13.190000</td>\n",
       "      <td>171.000000</td>\n",
       "      <td>11.520000</td>\n",
       "    </tr>\n",
       "    <tr>\n",
       "      <th>max</th>\n",
       "      <td>38.320000</td>\n",
       "      <td>982.000000</td>\n",
       "      <td>20.720000</td>\n",
       "    </tr>\n",
       "    <tr>\n",
       "      <th rowspan=\"8\" valign=\"top\">Walking</th>\n",
       "      <th>count</th>\n",
       "      <td>18.000000</td>\n",
       "      <td>18.000000</td>\n",
       "      <td>18.000000</td>\n",
       "    </tr>\n",
       "    <tr>\n",
       "      <th>mean</th>\n",
       "      <td>1.858333</td>\n",
       "      <td>19.388889</td>\n",
       "      <td>5.549444</td>\n",
       "    </tr>\n",
       "    <tr>\n",
       "      <th>std</th>\n",
       "      <td>0.880055</td>\n",
       "      <td>27.110100</td>\n",
       "      <td>1.459309</td>\n",
       "    </tr>\n",
       "    <tr>\n",
       "      <th>min</th>\n",
       "      <td>1.220000</td>\n",
       "      <td>5.000000</td>\n",
       "      <td>1.040000</td>\n",
       "    </tr>\n",
       "    <tr>\n",
       "      <th>25%</th>\n",
       "      <td>1.385000</td>\n",
       "      <td>7.000000</td>\n",
       "      <td>5.555000</td>\n",
       "    </tr>\n",
       "    <tr>\n",
       "      <th>50%</th>\n",
       "      <td>1.485000</td>\n",
       "      <td>10.000000</td>\n",
       "      <td>5.970000</td>\n",
       "    </tr>\n",
       "    <tr>\n",
       "      <th>75%</th>\n",
       "      <td>1.787500</td>\n",
       "      <td>15.500000</td>\n",
       "      <td>6.512500</td>\n",
       "    </tr>\n",
       "    <tr>\n",
       "      <th>max</th>\n",
       "      <td>4.290000</td>\n",
       "      <td>112.000000</td>\n",
       "      <td>6.910000</td>\n",
       "    </tr>\n",
       "  </tbody>\n",
       "</table>\n",
       "</div>"
      ],
      "text/plain": [
       "               Distance (km)   Climb (m)  Average Speed (km/h)\n",
       "Type                                                          \n",
       "Cycling count      29.000000   29.000000             29.000000\n",
       "        mean       23.468276  240.551724             19.125172\n",
       "        std         9.451040  128.960289              3.257100\n",
       "        min        11.410000   58.000000             11.380000\n",
       "        25%        15.530000  139.000000             16.980000\n",
       "        50%        20.300000  199.000000             19.500000\n",
       "        75%        29.400000  318.000000             21.490000\n",
       "        max        49.180000  553.000000             24.330000\n",
       "Running count     459.000000  459.000000            459.000000\n",
       "        mean       11.382353  124.788671             11.056296\n",
       "        std         4.937853  103.382177              0.953273\n",
       "        min         0.760000    0.000000              5.770000\n",
       "        25%         7.415000   54.000000             10.495000\n",
       "        50%        10.810000   91.000000             10.980000\n",
       "        75%        13.190000  171.000000             11.520000\n",
       "        max        38.320000  982.000000             20.720000\n",
       "Walking count      18.000000   18.000000             18.000000\n",
       "        mean        1.858333   19.388889              5.549444\n",
       "        std         0.880055   27.110100              1.459309\n",
       "        min         1.220000    5.000000              1.040000\n",
       "        25%         1.385000    7.000000              5.555000\n",
       "        50%         1.485000   10.000000              5.970000\n",
       "        75%         1.787500   15.500000              6.512500\n",
       "        max         4.290000  112.000000              6.910000"
      ]
     },
     "execution_count": 47,
     "metadata": {},
     "output_type": "execute_result"
    }
   ],
   "source": [
    "df_summary.stack()"
   ]
  },
  {
   "cell_type": "markdown",
   "id": "9871865f",
   "metadata": {},
   "source": [
    "## Task 11"
   ]
  },
  {
   "cell_type": "markdown",
   "id": "56a2a94f",
   "metadata": {},
   "source": [
    "FUN FACTS\n",
    "- Total number of km run: 5,224 km\n",
    "- Number of running shoes gone through: 7 pairs"
   ]
  },
  {
   "cell_type": "code",
   "execution_count": 48,
   "id": "8b2426b6",
   "metadata": {},
   "outputs": [
    {
     "data": {
      "text/plain": [
       "746.2857142857143"
      ]
     },
     "execution_count": 48,
     "metadata": {},
     "output_type": "execute_result"
    }
   ],
   "source": [
    "avg_shoes_per_lifetime = 5224/7\n",
    "avg_shoes_per_lifetime"
   ]
  },
  {
   "cell_type": "markdown",
   "id": "6c178d7d",
   "metadata": {},
   "source": [
    "FORREST RUN FACTS\n",
    "- Total number of km run: 24,700 km"
   ]
  },
  {
   "cell_type": "code",
   "execution_count": 49,
   "id": "4917dcb0",
   "metadata": {},
   "outputs": [],
   "source": [
    "shoes_forrest_run = 24700 // avg_shoes_per_lifetime"
   ]
  },
  {
   "cell_type": "code",
   "execution_count": 50,
   "id": "638fa98f",
   "metadata": {},
   "outputs": [
    {
     "data": {
      "text/plain": [
       "33.0"
      ]
     },
     "execution_count": 50,
     "metadata": {},
     "output_type": "execute_result"
    }
   ],
   "source": [
    "shoes_forrest_run"
   ]
  },
  {
   "cell_type": "code",
   "execution_count": null,
   "id": "e5ee7496",
   "metadata": {},
   "outputs": [],
   "source": []
  }
 ],
 "metadata": {
  "kernelspec": {
   "display_name": "Python 3 (ipykernel)",
   "language": "python",
   "name": "python3"
  },
  "language_info": {
   "codemirror_mode": {
    "name": "ipython",
    "version": 3
   },
   "file_extension": ".py",
   "mimetype": "text/x-python",
   "name": "python",
   "nbconvert_exporter": "python",
   "pygments_lexer": "ipython3",
   "version": "3.8.8"
  }
 },
 "nbformat": 4,
 "nbformat_minor": 5
}
